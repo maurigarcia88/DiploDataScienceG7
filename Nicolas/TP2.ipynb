{
 "cells": [
  {
   "cell_type": "markdown",
   "metadata": {},
   "source": [
    "## Modelo de regresión logística"
   ]
  },
  {
   "cell_type": "code",
   "execution_count": 315,
   "metadata": {},
   "outputs": [],
   "source": [
    "from sklearn.linear_model import LogisticRegression"
   ]
  },
  {
   "cell_type": "code",
   "execution_count": 375,
   "metadata": {},
   "outputs": [],
   "source": [
    "logreg_1 = LogisticRegression(solver='lbfgs',max_iter=1000)"
   ]
  },
  {
   "cell_type": "code",
   "execution_count": 376,
   "metadata": {},
   "outputs": [
    {
     "data": {
      "text/plain": [
       "LogisticRegression(C=1.0, class_weight=None, dual=False, fit_intercept=True,\n",
       "                   intercept_scaling=1, l1_ratio=None, max_iter=1000,\n",
       "                   multi_class='warn', n_jobs=None, penalty='l2',\n",
       "                   random_state=None, solver='lbfgs', tol=0.0001, verbose=0,\n",
       "                   warm_start=False)"
      ]
     },
     "execution_count": 376,
     "metadata": {},
     "output_type": "execute_result"
    }
   ],
   "source": [
    "logreg_1.fit(X_train,y_train)"
   ]
  },
  {
   "cell_type": "code",
   "execution_count": 377,
   "metadata": {},
   "outputs": [],
   "source": [
    "y_preds_1 = logreg_1.predict_proba(X_test)"
   ]
  },
  {
   "cell_type": "code",
   "execution_count": 378,
   "metadata": {},
   "outputs": [
    {
     "name": "stdout",
     "output_type": "stream",
     "text": [
      "              precision    recall  f1-score   support\n",
      "\n",
      "         0.0       0.53      0.70      0.60        64\n",
      "         1.0       0.44      0.27      0.34        55\n",
      "\n",
      "    accuracy                           0.50       119\n",
      "   macro avg       0.49      0.49      0.47       119\n",
      "weighted avg       0.49      0.50      0.48       119\n",
      "\n"
     ]
    }
   ],
   "source": [
    "print(classification_report(y_test,y_preds_1[:,1]>0.5))"
   ]
  },
  {
   "cell_type": "code",
   "execution_count": 379,
   "metadata": {},
   "outputs": [
    {
     "name": "stdout",
     "output_type": "stream",
     "text": [
      "No Skill: ROC AUC=0.500\n",
      "Logistic: ROC AUC=0.488\n"
     ]
    },
    {
     "data": {
      "image/png": "[encoded data removed]",
      "text/plain": [
       "<Figure size 432x288 with 1 Axes>"
      ]
     },
     "metadata": {
      "needs_background": "light"
     },
     "output_type": "display_data"
    }
   ],
   "source": [
    "calculate_roc(y_test,y_preds_1[:,1]>0.5)"
   ]
  },
  {
   "cell_type": "code",
   "execution_count": null,
   "metadata": {},
   "outputs": [],
   "source": []
  },
  {
   "cell_type": "code",
   "execution_count": null,
   "metadata": {},
   "outputs": [],
   "source": []
  },
  {
   "cell_type": "code",
   "execution_count": null,
   "metadata": {},
   "outputs": [],
   "source": []
  },
  {
   "cell_type": "code",
   "execution_count": 399,
   "metadata": {},
   "outputs": [],
   "source": [
    "logreg = LogisticRegression(penalty='l2',solver='lbfgs',C=1 ,max_iter=1000)"
   ]
  },
  {
   "cell_type": "code",
   "execution_count": 400,
   "metadata": {},
   "outputs": [
    {
     "data": {
      "text/plain": [
       "LogisticRegression(C=1, class_weight=None, dual=False, fit_intercept=True,\n",
       "                   intercept_scaling=1, l1_ratio=None, max_iter=1000,\n",
       "                   multi_class='warn', n_jobs=None, penalty='l2',\n",
       "                   random_state=None, solver='lbfgs', tol=0.0001, verbose=0,\n",
       "                   warm_start=False)"
      ]
     },
     "execution_count": 400,
     "metadata": {},
     "output_type": "execute_result"
    }
   ],
   "source": [
    "logreg.fit(X_train,y_train)"
   ]
  },
  {
   "cell_type": "code",
   "execution_count": 401,
   "metadata": {},
   "outputs": [],
   "source": [
    "y_preds = logreg.predict_proba(X_test)"
   ]
  },
  {
   "cell_type": "code",
   "execution_count": 402,
   "metadata": {},
   "outputs": [],
   "source": [
    "param_grid = { \n",
    "    'solver': ['lbfgs', 'liblinear', 'newton-cg'],\n",
    "    'C': [0.0001,0.001,0.01,0.1,1,10,100,1000]\n",
    "}"
   ]
  },
  {
   "cell_type": "code",
   "execution_count": 403,
   "metadata": {},
   "outputs": [],
   "source": [
    "CV_rfc = GridSearchCV(estimator=logreg, param_grid=param_grid, cv= 2,n_jobs=6, verbose=5, scoring='f1')"
   ]
  },
  {
   "cell_type": "code",
   "execution_count": 404,
   "metadata": {},
   "outputs": [
    {
     "name": "stdout",
     "output_type": "stream",
     "text": [
      "Fitting 2 folds for each of 24 candidates, totalling 48 fits\n"
     ]
    },
    {
     "name": "stderr",
     "output_type": "stream",
     "text": [
      "[Parallel(n_jobs=6)]: Using backend LokyBackend with 6 concurrent workers.\n",
      "[Parallel(n_jobs=6)]: Done   7 out of  48 | elapsed:    0.1s remaining:    0.5s\n",
      "[Parallel(n_jobs=6)]: Done  48 out of  48 | elapsed:    1.2s finished\n"
     ]
    },
    {
     "data": {
      "text/plain": [
       "GridSearchCV(cv=2, error_score='raise-deprecating',\n",
       "             estimator=LogisticRegression(C=1, class_weight=None, dual=False,\n",
       "                                          fit_intercept=True,\n",
       "                                          intercept_scaling=1, l1_ratio=None,\n",
       "                                          max_iter=1000, multi_class='warn',\n",
       "                                          n_jobs=None, penalty='l2',\n",
       "                                          random_state=None, solver='lbfgs',\n",
       "                                          tol=0.0001, verbose=0,\n",
       "                                          warm_start=False),\n",
       "             iid='warn', n_jobs=6,\n",
       "             param_grid={'C': [0.0001, 0.001, 0.01, 0.1, 1, 10, 100, 1000],\n",
       "                         'solver': ['lbfgs', 'liblinear', 'newton-cg']},\n",
       "             pre_dispatch='2*n_jobs', refit=True, return_train_score=False,\n",
       "             scoring='f1', verbose=5)"
      ]
     },
     "execution_count": 404,
     "metadata": {},
     "output_type": "execute_result"
    }
   ],
   "source": [
    "CV_rfc.fit(X_train, y_train)"
   ]
  },
  {
   "cell_type": "code",
   "execution_count": 405,
   "metadata": {},
   "outputs": [
    {
     "data": {
      "text/plain": [
       "{'C': 1, 'solver': 'lbfgs'}"
      ]
     },
     "execution_count": 405,
     "metadata": {},
     "output_type": "execute_result"
    }
   ],
   "source": [
    "CV_rfc.best_params_"
   ]
  },
  {
   "cell_type": "code",
   "execution_count": 406,
   "metadata": {},
   "outputs": [
    {
     "data": {
      "text/plain": [
       "{'C': 1,\n",
       " 'class_weight': None,\n",
       " 'dual': False,\n",
       " 'fit_intercept': True,\n",
       " 'intercept_scaling': 1,\n",
       " 'l1_ratio': None,\n",
       " 'max_iter': 1000,\n",
       " 'multi_class': 'warn',\n",
       " 'n_jobs': None,\n",
       " 'penalty': 'l2',\n",
       " 'random_state': None,\n",
       " 'solver': 'lbfgs',\n",
       " 'tol': 0.0001,\n",
       " 'verbose': 0,\n",
       " 'warm_start': False}"
      ]
     },
     "execution_count": 406,
     "metadata": {},
     "output_type": "execute_result"
    }
   ],
   "source": [
    "CV_rfc.best_estimator_.get_params()"
   ]
  },
  {
   "cell_type": "code",
   "execution_count": 407,
   "metadata": {},
   "outputs": [
    {
     "data": {
      "text/plain": [
       "0.5042016806722689"
      ]
     },
     "execution_count": 407,
     "metadata": {},
     "output_type": "execute_result"
    }
   ],
   "source": [
    "CV_rfc.best_estimator_.score(X_test,y_test)"
   ]
  },
  {
   "cell_type": "code",
   "execution_count": 408,
   "metadata": {},
   "outputs": [
    {
     "data": {
      "text/plain": [
       "0.4399122807017544"
      ]
     },
     "execution_count": 408,
     "metadata": {},
     "output_type": "execute_result"
    }
   ],
   "source": [
    "CV_rfc.best_score_"
   ]
  },
  {
   "cell_type": "code",
   "execution_count": 409,
   "metadata": {},
   "outputs": [
    {
     "data": {
      "text/plain": [
       "{'mean_fit_time': array([0.04503822, 0.00547707, 0.02837312, 0.07917595, 0.01542699,\n",
       "        0.04306304, 0.07182908, 0.01285052, 0.02411056, 0.09022772,\n",
       "        0.02879119, 0.02697384, 0.12166452, 0.00509048, 0.03078651,\n",
       "        0.18102968, 0.0369035 , 0.03674853, 0.21566379, 0.03335083,\n",
       "        0.08462203, 0.22220051, 0.03546238, 0.08468044]),\n",
       " 'std_fit_time': array([0.02884483, 0.00123441, 0.00611317, 0.06174135, 0.01265228,\n",
       "        0.0205549 , 0.05412912, 0.01008677, 0.0119946 , 0.07292187,\n",
       "        0.02588892, 0.01002443, 0.07399416, 0.00091815, 0.00752068,\n",
       "        0.09178841, 0.03196943, 0.00899208, 0.04770815, 0.02792847,\n",
       "        0.03531516, 0.05063331, 0.02572274, 0.03588068]),\n",
       " 'mean_score_time': array([0.00368643, 0.00313485, 0.00357497, 0.00192952, 0.00281525,\n",
       "        0.00347555, 0.00204003, 0.00171757, 0.00167668, 0.00190985,\n",
       "        0.00194657, 0.00156593, 0.00180435, 0.00201452, 0.00242472,\n",
       "        0.00207841, 0.00175726, 0.00189054, 0.00203764, 0.00200427,\n",
       "        0.00264025, 0.00157344, 0.00198877, 0.00167441]),\n",
       " 'std_score_time': array([1.37329102e-04, 3.68356705e-05, 3.54886055e-04, 2.52723694e-05,\n",
       "        2.74896622e-04, 3.55601311e-04, 1.57237053e-04, 9.29832458e-06,\n",
       "        9.45329666e-05, 2.85506248e-04, 2.21848488e-04, 5.48362732e-06,\n",
       "        1.78575516e-04, 1.72495842e-04, 3.67879868e-04, 3.58939171e-04,\n",
       "        1.63674355e-04, 1.99675560e-04, 3.31521034e-04, 1.00731850e-04,\n",
       "        2.60829926e-04, 2.01463699e-05, 3.68356705e-05, 6.07967377e-05]),\n",
       " 'param_C': masked_array(data=[0.0001, 0.0001, 0.0001, 0.001, 0.001, 0.001, 0.01,\n",
       "                    0.01, 0.01, 0.1, 0.1, 0.1, 1, 1, 1, 10, 10, 10, 100,\n",
       "                    100, 100, 1000, 1000, 1000],\n",
       "              mask=[False, False, False, False, False, False, False, False,\n",
       "                    False, False, False, False, False, False, False, False,\n",
       "                    False, False, False, False, False, False, False, False],\n",
       "        fill_value='?',\n",
       "             dtype=object),\n",
       " 'param_solver': masked_array(data=['lbfgs', 'liblinear', 'newton-cg', 'lbfgs',\n",
       "                    'liblinear', 'newton-cg', 'lbfgs', 'liblinear',\n",
       "                    'newton-cg', 'lbfgs', 'liblinear', 'newton-cg',\n",
       "                    'lbfgs', 'liblinear', 'newton-cg', 'lbfgs',\n",
       "                    'liblinear', 'newton-cg', 'lbfgs', 'liblinear',\n",
       "                    'newton-cg', 'lbfgs', 'liblinear', 'newton-cg'],\n",
       "              mask=[False, False, False, False, False, False, False, False,\n",
       "                    False, False, False, False, False, False, False, False,\n",
       "                    False, False, False, False, False, False, False, False],\n",
       "        fill_value='?',\n",
       "             dtype=object),\n",
       " 'params': [{'C': 0.0001, 'solver': 'lbfgs'},\n",
       "  {'C': 0.0001, 'solver': 'liblinear'},\n",
       "  {'C': 0.0001, 'solver': 'newton-cg'},\n",
       "  {'C': 0.001, 'solver': 'lbfgs'},\n",
       "  {'C': 0.001, 'solver': 'liblinear'},\n",
       "  {'C': 0.001, 'solver': 'newton-cg'},\n",
       "  {'C': 0.01, 'solver': 'lbfgs'},\n",
       "  {'C': 0.01, 'solver': 'liblinear'},\n",
       "  {'C': 0.01, 'solver': 'newton-cg'},\n",
       "  {'C': 0.1, 'solver': 'lbfgs'},\n",
       "  {'C': 0.1, 'solver': 'liblinear'},\n",
       "  {'C': 0.1, 'solver': 'newton-cg'},\n",
       "  {'C': 1, 'solver': 'lbfgs'},\n",
       "  {'C': 1, 'solver': 'liblinear'},\n",
       "  {'C': 1, 'solver': 'newton-cg'},\n",
       "  {'C': 10, 'solver': 'lbfgs'},\n",
       "  {'C': 10, 'solver': 'liblinear'},\n",
       "  {'C': 10, 'solver': 'newton-cg'},\n",
       "  {'C': 100, 'solver': 'lbfgs'},\n",
       "  {'C': 100, 'solver': 'liblinear'},\n",
       "  {'C': 100, 'solver': 'newton-cg'},\n",
       "  {'C': 1000, 'solver': 'lbfgs'},\n",
       "  {'C': 1000, 'solver': 'liblinear'},\n",
       "  {'C': 1000, 'solver': 'newton-cg'}],\n",
       " 'split0_test_score': array([0.        , 0.17142857, 0.        , 0.        , 0.22222222,\n",
       "        0.        , 0.10344828, 0.18461538, 0.10526316, 0.31428571,\n",
       "        0.32      , 0.31428571, 0.41666667, 0.44680851, 0.41666667,\n",
       "        0.44660194, 0.21538462, 0.44660194, 0.45714286, 0.25      ,\n",
       "        0.44      , 0.46153846, 0.21875   , 0.43564356]),\n",
       " 'split1_test_score': array([0.03846154, 0.41176471, 0.03846154, 0.03703704, 0.41237113,\n",
       "        0.03703704, 0.29333333, 0.43010753, 0.29333333, 0.4       ,\n",
       "        0.4516129 , 0.4       , 0.46315789, 0.43298969, 0.46315789,\n",
       "        0.40425532, 0.40425532, 0.40425532, 0.41758242, 0.41758242,\n",
       "        0.41758242, 0.3877551 , 0.39175258, 0.3877551 ]),\n",
       " 'mean_test_score': array([0.01923077, 0.29159664, 0.01923077, 0.01851852, 0.31729668,\n",
       "        0.01851852, 0.1983908 , 0.30736146, 0.19929825, 0.35714286,\n",
       "        0.38580645, 0.35714286, 0.43991228, 0.4398991 , 0.43991228,\n",
       "        0.42542863, 0.30981997, 0.42542863, 0.43736264, 0.33379121,\n",
       "        0.42879121, 0.42464678, 0.30525129, 0.41169933]),\n",
       " 'std_test_score': array([0.01923077, 0.12016807, 0.01923077, 0.01851852, 0.09507446,\n",
       "        0.01851852, 0.09494253, 0.12274607, 0.09403509, 0.04285714,\n",
       "        0.06580645, 0.04285714, 0.02324561, 0.00690941, 0.02324561,\n",
       "        0.02117331, 0.09443535, 0.02117331, 0.01978022, 0.08379121,\n",
       "        0.01120879, 0.03689168, 0.08650129, 0.02394423]),\n",
       " 'rank_test_score': array([21, 18, 21, 23, 14, 23, 20, 16, 19, 11, 10, 11,  1,  3,  1,  6, 15,\n",
       "         6,  4, 13,  5,  8, 17,  9], dtype=int32)}"
      ]
     },
     "execution_count": 409,
     "metadata": {},
     "output_type": "execute_result"
    }
   ],
   "source": [
    "CV_rfc.cv_results_"
   ]
  },
  {
   "cell_type": "code",
   "execution_count": 410,
   "metadata": {},
   "outputs": [
    {
     "name": "stdout",
     "output_type": "stream",
     "text": [
      "              precision    recall  f1-score   support\n",
      "\n",
      "         0.0       0.53      0.70      0.60        64\n",
      "         1.0       0.44      0.27      0.34        55\n",
      "\n",
      "    accuracy                           0.50       119\n",
      "   macro avg       0.49      0.49      0.47       119\n",
      "weighted avg       0.49      0.50      0.48       119\n",
      "\n"
     ]
    }
   ],
   "source": [
    "print(classification_report(y_test,y_preds[:,1]>0.5))"
   ]
  },
  {
   "cell_type": "code",
   "execution_count": 411,
   "metadata": {},
   "outputs": [
    {
     "name": "stdout",
     "output_type": "stream",
     "text": [
      "No Skill: ROC AUC=0.500\n",
      "Logistic: ROC AUC=0.488\n"
     ]
    },
    {
     "data": {
      "image/png": "[encoded data removed]",
      "text/plain": [
       "<Figure size 432x288 with 1 Axes>"
      ]
     },
     "metadata": {
      "needs_background": "light"
     },
     "output_type": "display_data"
    }
   ],
   "source": [
    "calculate_roc(y_test,y_preds[:,1]>0.5)"
   ]
  },
  {
   "cell_type": "code",
   "execution_count": null,
   "metadata": {},
   "outputs": [],
   "source": []
  }
 ],
 "metadata": {
  "hide_input": false,
  "kernelspec": {
   "display_name": "Python 3",
   "language": "python",
   "name": "python3"
  },
  "language_info": {
   "codemirror_mode": {
    "name": "ipython",
    "version": 3
   },
   "file_extension": ".py",
   "mimetype": "text/x-python",
   "name": "python",
   "nbconvert_exporter": "python",
   "pygments_lexer": "ipython3",
   "version": "3.7.4"
  }
 },
 "nbformat": 4,
 "nbformat_minor": 4
}
