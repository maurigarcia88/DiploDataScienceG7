{
 "cells": [
  {
   "cell_type": "code",
   "execution_count": 68,
   "metadata": {},
   "outputs": [
    {
     "name": "stdout",
     "output_type": "stream",
     "text": [
      "C:\\Users\\u0166657\\Workspace\\Diplo-datos\\repositorio\\DiploDataScienceG7\\Mauri\\TP3\n"
     ]
    }
   ],
   "source": [
    "import os\n",
    "import pandas as pd\n",
    "import seaborn as sns\n",
    "import numpy as np\n",
    "import matplotlib.pyplot as plt\n",
    "sns.set_style(\"darkgrid\")\n",
    "from mpl_toolkits.mplot3d import Axes3D\n",
    "from sklearn.preprocessing import StandardScaler\n",
    "from sklearn import preprocessing\n",
    "from sklearn.metrics import silhouette_score\n",
    "\n",
    "\n",
    "\n",
    "print(os.getcwd())"
   ]
  },
  {
   "cell_type": "code",
   "execution_count": 2,
   "metadata": {},
   "outputs": [],
   "source": [
    "df = pd.read_csv('./preprocessed_dataset.csv', index_col=0)\n",
    "new_df = pd.DataFrame()"
   ]
  },
  {
   "cell_type": "code",
   "execution_count": 3,
   "metadata": {},
   "outputs": [
    {
     "name": "stdout",
     "output_type": "stream",
     "text": [
      "<class 'pandas.core.frame.DataFrame'>\n",
      "Int64Index: 116191 entries, 0 to 116580\n",
      "Data columns (total 46 columns):\n",
      " #   Column                         Non-Null Count   Dtype  \n",
      "---  ------                         --------------   -----  \n",
      " 0   order_id                       116191 non-null  object \n",
      " 1   customer_id                    116191 non-null  object \n",
      " 2   order_status                   116191 non-null  object \n",
      " 3   order_purchase_timestamp       116191 non-null  object \n",
      " 4   order_approved_at              116191 non-null  object \n",
      " 5   order_delivered_carrier_date   116191 non-null  object \n",
      " 6   order_delivered_customer_date  116191 non-null  object \n",
      " 7   order_estimated_delivery_date  116191 non-null  object \n",
      " 8   order_item_id                  116191 non-null  int64  \n",
      " 9   product_id                     116191 non-null  object \n",
      " 10  seller_id                      116191 non-null  object \n",
      " 11  shipping_limit_date            116191 non-null  object \n",
      " 12  price                          116191 non-null  float64\n",
      " 13  freight_value                  116191 non-null  float64\n",
      " 14  payment_sequential             116191 non-null  int64  \n",
      " 15  payment_type                   116191 non-null  object \n",
      " 16  payment_installments           116191 non-null  int64  \n",
      " 17  payment_value                  116191 non-null  float64\n",
      " 18  review_id                      116191 non-null  object \n",
      " 19  review_score                   116191 non-null  int64  \n",
      " 20  review_creation_date           116191 non-null  object \n",
      " 21  review_answer_timestamp        116191 non-null  object \n",
      " 22  product_category_name          116191 non-null  object \n",
      " 23  product_name_lenght            116191 non-null  int64  \n",
      " 24  product_description_lenght     116191 non-null  int64  \n",
      " 25  product_photos_qty             116191 non-null  int64  \n",
      " 26  product_weight_g               116191 non-null  float64\n",
      " 27  product_length_cm              116191 non-null  float64\n",
      " 28  product_height_cm              116191 non-null  float64\n",
      " 29  product_width_cm               116191 non-null  float64\n",
      " 30  customer_unique_id             116191 non-null  object \n",
      " 31  customer_zip_code_prefix       116191 non-null  int64  \n",
      " 32  customer_city                  116191 non-null  object \n",
      " 33  customer_state                 116191 non-null  object \n",
      " 34  seller_zip_code_prefix         116191 non-null  int64  \n",
      " 35  seller_city                    116191 non-null  object \n",
      " 36  seller_state                   116191 non-null  object \n",
      " 37  product_category_name_english  116191 non-null  object \n",
      " 38  Month_order                    116191 non-null  object \n",
      " 39  order_process_time             116191 non-null  object \n",
      " 40  order_delivery_time            116191 non-null  object \n",
      " 41  order_accuracy_time            116191 non-null  object \n",
      " 42  order_approved_time            116191 non-null  object \n",
      " 43  review_send_time               116191 non-null  object \n",
      " 44  review_answer_time             116191 non-null  object \n",
      " 45  product_volume                 116191 non-null  float64\n",
      "dtypes: float64(8), int64(9), object(29)\n",
      "memory usage: 41.7+ MB\n"
     ]
    }
   ],
   "source": [
    "df.info()"
   ]
  },
  {
   "cell_type": "markdown",
   "metadata": {},
   "source": [
    "#### Construimos un dataset nuevo agrupando por customer_id para obtener datos solamente del cliente"
   ]
  },
  {
   "cell_type": "code",
   "execution_count": 4,
   "metadata": {},
   "outputs": [],
   "source": [
    "by_customer_id = df.groupby([\"customer_id\"])\n"
   ]
  },
  {
   "cell_type": "code",
   "execution_count": 5,
   "metadata": {},
   "outputs": [],
   "source": [
    "new_df['total_payment_value'] = by_customer_id[\"payment_value\"].apply(sum)\n"
   ]
  },
  {
   "cell_type": "code",
   "execution_count": 6,
   "metadata": {},
   "outputs": [
    {
     "data": {
      "text/html": [
       "<div>\n",
       "<style scoped>\n",
       "    .dataframe tbody tr th:only-of-type {\n",
       "        vertical-align: middle;\n",
       "    }\n",
       "\n",
       "    .dataframe tbody tr th {\n",
       "        vertical-align: top;\n",
       "    }\n",
       "\n",
       "    .dataframe thead th {\n",
       "        text-align: right;\n",
       "    }\n",
       "</style>\n",
       "<table border=\"1\" class=\"dataframe\">\n",
       "  <thead>\n",
       "    <tr style=\"text-align: right;\">\n",
       "      <th></th>\n",
       "      <th>customer_id</th>\n",
       "      <th>total_payment_value</th>\n",
       "    </tr>\n",
       "  </thead>\n",
       "  <tbody>\n",
       "    <tr>\n",
       "      <th>0</th>\n",
       "      <td>00012a2ce6f8dcda20d059ce98491703</td>\n",
       "      <td>114.74</td>\n",
       "    </tr>\n",
       "    <tr>\n",
       "      <th>1</th>\n",
       "      <td>000161a058600d5901f007fab4c27140</td>\n",
       "      <td>67.41</td>\n",
       "    </tr>\n",
       "    <tr>\n",
       "      <th>2</th>\n",
       "      <td>0001fd6190edaaf884bcaf3d49edf079</td>\n",
       "      <td>195.42</td>\n",
       "    </tr>\n",
       "    <tr>\n",
       "      <th>3</th>\n",
       "      <td>0002414f95344307404f0ace7a26f1d5</td>\n",
       "      <td>179.35</td>\n",
       "    </tr>\n",
       "    <tr>\n",
       "      <th>4</th>\n",
       "      <td>000379cdec625522490c315e70c7a9fb</td>\n",
       "      <td>107.01</td>\n",
       "    </tr>\n",
       "    <tr>\n",
       "      <th>...</th>\n",
       "      <td>...</td>\n",
       "      <td>...</td>\n",
       "    </tr>\n",
       "    <tr>\n",
       "      <th>96939</th>\n",
       "      <td>fffcb937e9dd47a13f05ecb8290f4d3e</td>\n",
       "      <td>91.91</td>\n",
       "    </tr>\n",
       "    <tr>\n",
       "      <th>96940</th>\n",
       "      <td>fffecc9f79fd8c764f843e9951b11341</td>\n",
       "      <td>81.36</td>\n",
       "    </tr>\n",
       "    <tr>\n",
       "      <th>96941</th>\n",
       "      <td>fffeda5b6d849fbd39689bb92087f431</td>\n",
       "      <td>63.13</td>\n",
       "    </tr>\n",
       "    <tr>\n",
       "      <th>96942</th>\n",
       "      <td>ffff42319e9b2d713724ae527742af25</td>\n",
       "      <td>214.13</td>\n",
       "    </tr>\n",
       "    <tr>\n",
       "      <th>96943</th>\n",
       "      <td>ffffa3172527f765de70084a7e53aae8</td>\n",
       "      <td>91.00</td>\n",
       "    </tr>\n",
       "  </tbody>\n",
       "</table>\n",
       "<p>96944 rows × 2 columns</p>\n",
       "</div>"
      ],
      "text/plain": [
       "                            customer_id  total_payment_value\n",
       "0      00012a2ce6f8dcda20d059ce98491703               114.74\n",
       "1      000161a058600d5901f007fab4c27140                67.41\n",
       "2      0001fd6190edaaf884bcaf3d49edf079               195.42\n",
       "3      0002414f95344307404f0ace7a26f1d5               179.35\n",
       "4      000379cdec625522490c315e70c7a9fb               107.01\n",
       "...                                 ...                  ...\n",
       "96939  fffcb937e9dd47a13f05ecb8290f4d3e                91.91\n",
       "96940  fffecc9f79fd8c764f843e9951b11341                81.36\n",
       "96941  fffeda5b6d849fbd39689bb92087f431                63.13\n",
       "96942  ffff42319e9b2d713724ae527742af25               214.13\n",
       "96943  ffffa3172527f765de70084a7e53aae8                91.00\n",
       "\n",
       "[96944 rows x 2 columns]"
      ]
     },
     "execution_count": 6,
     "metadata": {},
     "output_type": "execute_result"
    }
   ],
   "source": [
    "new_df.reset_index()"
   ]
  },
  {
   "cell_type": "code",
   "execution_count": 7,
   "metadata": {},
   "outputs": [],
   "source": [
    "new_df['total_buys'] = by_customer_id['customer_id'].apply(pd.Series.count)"
   ]
  },
  {
   "cell_type": "code",
   "execution_count": 8,
   "metadata": {},
   "outputs": [
    {
     "data": {
      "text/plain": [
       "total_payment_value    114.74\n",
       "total_buys               1.00\n",
       "Name: 00012a2ce6f8dcda20d059ce98491703, dtype: float64"
      ]
     },
     "execution_count": 8,
     "metadata": {},
     "output_type": "execute_result"
    }
   ],
   "source": [
    "new_df.loc['00012a2ce6f8dcda20d059ce98491703']"
   ]
  },
  {
   "cell_type": "code",
   "execution_count": 9,
   "metadata": {},
   "outputs": [],
   "source": [
    "new_df['prefered_payment_type'] = by_customer_id['payment_type'].apply(lambda x:x.mode()[0])"
   ]
  },
  {
   "cell_type": "code",
   "execution_count": 10,
   "metadata": {},
   "outputs": [],
   "source": [
    "new_df['prefered_payment_installments'] = by_customer_id['payment_installments'].apply(lambda x:x.mode()[0])"
   ]
  },
  {
   "cell_type": "code",
   "execution_count": 11,
   "metadata": {},
   "outputs": [],
   "source": [
    "new_df['mean_review_score'] = by_customer_id['review_score'].apply(pd.Series.mean)"
   ]
  },
  {
   "cell_type": "code",
   "execution_count": 12,
   "metadata": {},
   "outputs": [],
   "source": [
    "new_df['mean_products_photos_qty'] = by_customer_id['product_photos_qty'].apply(pd.Series.mean)"
   ]
  },
  {
   "cell_type": "code",
   "execution_count": 13,
   "metadata": {},
   "outputs": [],
   "source": [
    "new_df['n_different_bought_products'] =  by_customer_id['payment_type'].apply(pd.Series.nunique)"
   ]
  },
  {
   "cell_type": "code",
   "execution_count": 14,
   "metadata": {},
   "outputs": [],
   "source": [
    "new_df['mean_products_volume'] = by_customer_id['product_volume'].apply(pd.Series.mean)"
   ]
  },
  {
   "cell_type": "code",
   "execution_count": 15,
   "metadata": {},
   "outputs": [],
   "source": [
    "new_df['mean_products_weight_g'] = by_customer_id['product_weight_g'].apply(pd.Series.mean)"
   ]
  },
  {
   "cell_type": "code",
   "execution_count": 16,
   "metadata": {},
   "outputs": [],
   "source": [
    "new_df.to_csv('./new_df.csv')"
   ]
  },
  {
   "cell_type": "code",
   "execution_count": 17,
   "metadata": {},
   "outputs": [
    {
     "data": {
      "text/plain": [
       "Index(['order_id', 'customer_id', 'order_status', 'order_purchase_timestamp',\n",
       "       'order_approved_at', 'order_delivered_carrier_date',\n",
       "       'order_delivered_customer_date', 'order_estimated_delivery_date',\n",
       "       'order_item_id', 'product_id', 'seller_id', 'shipping_limit_date',\n",
       "       'price', 'freight_value', 'payment_sequential', 'payment_type',\n",
       "       'payment_installments', 'payment_value', 'review_id', 'review_score',\n",
       "       'review_creation_date', 'review_answer_timestamp',\n",
       "       'product_category_name', 'product_name_lenght',\n",
       "       'product_description_lenght', 'product_photos_qty', 'product_weight_g',\n",
       "       'product_length_cm', 'product_height_cm', 'product_width_cm',\n",
       "       'customer_unique_id', 'customer_zip_code_prefix', 'customer_city',\n",
       "       'customer_state', 'seller_zip_code_prefix', 'seller_city',\n",
       "       'seller_state', 'product_category_name_english', 'Month_order',\n",
       "       'order_process_time', 'order_delivery_time', 'order_accuracy_time',\n",
       "       'order_approved_time', 'review_send_time', 'review_answer_time',\n",
       "       'product_volume'],\n",
       "      dtype='object')"
      ]
     },
     "execution_count": 17,
     "metadata": {},
     "output_type": "execute_result"
    }
   ],
   "source": [
    "df.columns"
   ]
  },
  {
   "cell_type": "code",
   "execution_count": 18,
   "metadata": {},
   "outputs": [
    {
     "data": {
      "text/plain": [
       "bed_bath_table               0.103123\n",
       "health_beauty                0.085893\n",
       "sports_leisure               0.077338\n",
       "furniture_decor              0.075316\n",
       "computers_accessories        0.069945\n",
       "                               ...   \n",
       "arts_and_craftmanship        0.000207\n",
       "la_cuisine                   0.000138\n",
       "cds_dvds_musicals            0.000120\n",
       "fashion_childrens_clothes    0.000069\n",
       "security_and_services        0.000017\n",
       "Name: product_category_name_english, Length: 71, dtype: float64"
      ]
     },
     "execution_count": 18,
     "metadata": {},
     "output_type": "execute_result"
    }
   ],
   "source": [
    "df.product_category_name_english.value_counts(normalize=True)"
   ]
  },
  {
   "cell_type": "code",
   "execution_count": 19,
   "metadata": {},
   "outputs": [],
   "source": [
    "#customer_state(4 categorias, primeras 3 mas otros)\n",
    "new_df['mean_customer_state'] = by_customer_id['customer_state'].apply(lambda x:x.mode()[0])\n",
    "\n",
    "customer_state_list=['SP','RJ','MG']\n",
    "def customer_state_truncate(x):\n",
    "    if x not in customer_state_list :\n",
    "        return 'OTROS'\n",
    "    else:\n",
    "        return x\n",
    "\n",
    "\n",
    "new_df['mean_customer_state'] = new_df['mean_customer_state'].apply(lambda row: customer_state_truncate(row))"
   ]
  },
  {
   "cell_type": "code",
   "execution_count": 20,
   "metadata": {},
   "outputs": [],
   "source": [
    "#seller_state(4 categorias, primeras 3 mas otros)\n",
    "new_df['mean_seller_state'] = by_customer_id['seller_state'].apply(lambda x:x.mode()[0])\n",
    "\n",
    "seller_state_list=['SP','PR','MG']\n",
    "def seller_state_truncate(x):\n",
    "    if x not in seller_state_list :\n",
    "        return 'OTROS'\n",
    "    else:\n",
    "        return x\n",
    "\n",
    "new_df['mean_seller_state'] = new_df['mean_seller_state'].apply(lambda row: seller_state_truncate(row))"
   ]
  },
  {
   "cell_type": "code",
   "execution_count": 21,
   "metadata": {},
   "outputs": [],
   "source": [
    "#mean_order_process_time\n",
    "new_df['mean_order_process_time'] = by_customer_id['order_process_time'].apply(lambda x:x.mode()[0])\n",
    "new_df['mean_order_process_time'] = pd.to_timedelta(new_df['mean_order_process_time'],unit='S')\n",
    "new_df['mean_order_process_days'] = new_df['mean_order_process_time'].dt.days \n",
    "new_df['mean_order_process_hour_minute'] = new_df['mean_order_process_time'].dt.components.hours.astype(str) + new_df['mean_order_process_time'].dt.components.minutes.astype(str)"
   ]
  },
  {
   "cell_type": "code",
   "execution_count": 22,
   "metadata": {},
   "outputs": [],
   "source": [
    "#mean_order_delivery_time\n",
    "new_df['mean_order_delivery_time'] = by_customer_id['order_delivery_time'].apply(lambda x:x.mode()[0])\n",
    "new_df['mean_order_delivery_time'] = pd.to_timedelta(new_df['mean_order_delivery_time'],unit='S')\n",
    "new_df['mean_order_delivery_days'] = new_df['mean_order_delivery_time'].dt.days\n",
    "new_df['mean_order_delivery_hour_minute'] = new_df['mean_order_delivery_time'].dt.components.hours + new_df['mean_order_delivery_time'].dt.components.minutes"
   ]
  },
  {
   "cell_type": "code",
   "execution_count": 23,
   "metadata": {},
   "outputs": [],
   "source": [
    "#mean_order_accuracy_time\n",
    "new_df['mean_order_accuracy_time'] = by_customer_id['order_accuracy_time'].apply(lambda x:x.mode()[0])\n",
    "new_df['mean_order_accuracy_time'] = pd.to_timedelta(new_df['mean_order_accuracy_time'],unit='S')\n",
    "new_df['mean_order_accuracy_days'] = new_df['mean_order_accuracy_time'].dt.days\n",
    "new_df['mean_order_accuracy_hour_minute'] = new_df['mean_order_accuracy_time'].dt.components.hours + new_df['mean_order_accuracy_time'].dt.components.minutes"
   ]
  },
  {
   "cell_type": "code",
   "execution_count": 24,
   "metadata": {},
   "outputs": [],
   "source": [
    "#mean_order_approved_time'\n",
    "new_df['mean_order_approved_time'] = by_customer_id['order_approved_time'].apply(lambda x:x.mode()[0])\n",
    "new_df['mean_order_approved_time'] = pd.to_timedelta(new_df['mean_order_approved_time'],unit='S')\n",
    "new_df['mean_order_approved_days'] = new_df['mean_order_approved_time'].dt.days\n",
    "new_df['mean_order_approved_hour_minute'] = new_df['mean_order_approved_time'].dt.components.hours + new_df['mean_order_approved_time'].dt.components.minutes"
   ]
  },
  {
   "cell_type": "code",
   "execution_count": 25,
   "metadata": {},
   "outputs": [
    {
     "data": {
      "text/plain": [
       "Index(['total_payment_value', 'total_buys', 'prefered_payment_type',\n",
       "       'prefered_payment_installments', 'mean_review_score',\n",
       "       'mean_products_photos_qty', 'n_different_bought_products',\n",
       "       'mean_products_volume', 'mean_products_weight_g', 'mean_customer_state',\n",
       "       'mean_seller_state', 'mean_order_process_time',\n",
       "       'mean_order_process_days', 'mean_order_process_hour_minute',\n",
       "       'mean_order_delivery_time', 'mean_order_delivery_days',\n",
       "       'mean_order_delivery_hour_minute', 'mean_order_accuracy_time',\n",
       "       'mean_order_accuracy_days', 'mean_order_accuracy_hour_minute',\n",
       "       'mean_order_approved_time', 'mean_order_approved_days',\n",
       "       'mean_order_approved_hour_minute'],\n",
       "      dtype='object')"
      ]
     },
     "execution_count": 25,
     "metadata": {},
     "output_type": "execute_result"
    }
   ],
   "source": [
    "new_df.columns"
   ]
  },
  {
   "cell_type": "code",
   "execution_count": 26,
   "metadata": {},
   "outputs": [],
   "source": [
    "new_df.drop(['mean_order_process_time','mean_order_delivery_time','mean_order_accuracy_time', 'mean_order_approved_time'], axis='columns', inplace=True)"
   ]
  },
  {
   "cell_type": "markdown",
   "metadata": {},
   "source": [
    "### Tratamiento de Outliers"
   ]
  },
  {
   "cell_type": "code",
   "execution_count": 27,
   "metadata": {},
   "outputs": [
    {
     "data": {
      "text/html": [
       "<div>\n",
       "<style scoped>\n",
       "    .dataframe tbody tr th:only-of-type {\n",
       "        vertical-align: middle;\n",
       "    }\n",
       "\n",
       "    .dataframe tbody tr th {\n",
       "        vertical-align: top;\n",
       "    }\n",
       "\n",
       "    .dataframe thead th {\n",
       "        text-align: right;\n",
       "    }\n",
       "</style>\n",
       "<table border=\"1\" class=\"dataframe\">\n",
       "  <thead>\n",
       "    <tr style=\"text-align: right;\">\n",
       "      <th></th>\n",
       "      <th>total_payment_value</th>\n",
       "      <th>total_buys</th>\n",
       "      <th>prefered_payment_installments</th>\n",
       "      <th>mean_review_score</th>\n",
       "      <th>mean_products_photos_qty</th>\n",
       "      <th>n_different_bought_products</th>\n",
       "      <th>mean_products_volume</th>\n",
       "      <th>mean_products_weight_g</th>\n",
       "      <th>mean_order_process_days</th>\n",
       "      <th>mean_order_delivery_days</th>\n",
       "      <th>mean_order_delivery_hour_minute</th>\n",
       "      <th>mean_order_accuracy_days</th>\n",
       "      <th>mean_order_accuracy_hour_minute</th>\n",
       "      <th>mean_order_approved_days</th>\n",
       "      <th>mean_order_approved_hour_minute</th>\n",
       "    </tr>\n",
       "  </thead>\n",
       "  <tbody>\n",
       "    <tr>\n",
       "      <th>count</th>\n",
       "      <td>96944.000000</td>\n",
       "      <td>96944.000000</td>\n",
       "      <td>96944.000000</td>\n",
       "      <td>96944.000000</td>\n",
       "      <td>96944.000000</td>\n",
       "      <td>96944.000000</td>\n",
       "      <td>96944.000000</td>\n",
       "      <td>96944.000000</td>\n",
       "      <td>96944.000000</td>\n",
       "      <td>96944.000000</td>\n",
       "      <td>96944.000000</td>\n",
       "      <td>96944.000000</td>\n",
       "      <td>96944.000000</td>\n",
       "      <td>96944.000000</td>\n",
       "      <td>96944.000000</td>\n",
       "    </tr>\n",
       "    <tr>\n",
       "      <th>mean</th>\n",
       "      <td>207.138952</td>\n",
       "      <td>1.198537</td>\n",
       "      <td>2.903883</td>\n",
       "      <td>4.093551</td>\n",
       "      <td>2.249135</td>\n",
       "      <td>1.022549</td>\n",
       "      <td>15256.788955</td>\n",
       "      <td>2108.019929</td>\n",
       "      <td>12.015463</td>\n",
       "      <td>8.850512</td>\n",
       "      <td>39.821072</td>\n",
       "      <td>10.888606</td>\n",
       "      <td>35.626836</td>\n",
       "      <td>0.264823</td>\n",
       "      <td>24.366180</td>\n",
       "    </tr>\n",
       "    <tr>\n",
       "      <th>std</th>\n",
       "      <td>626.445194</td>\n",
       "      <td>0.751232</td>\n",
       "      <td>2.704329</td>\n",
       "      <td>1.339103</td>\n",
       "      <td>1.739502</td>\n",
       "      <td>0.148462</td>\n",
       "      <td>23386.142592</td>\n",
       "      <td>3758.330376</td>\n",
       "      <td>9.450100</td>\n",
       "      <td>8.665194</td>\n",
       "      <td>19.200122</td>\n",
       "      <td>10.113564</td>\n",
       "      <td>17.810162</td>\n",
       "      <td>0.762466</td>\n",
       "      <td>18.361404</td>\n",
       "    </tr>\n",
       "    <tr>\n",
       "      <th>min</th>\n",
       "      <td>9.590000</td>\n",
       "      <td>1.000000</td>\n",
       "      <td>0.000000</td>\n",
       "      <td>1.000000</td>\n",
       "      <td>1.000000</td>\n",
       "      <td>1.000000</td>\n",
       "      <td>168.000000</td>\n",
       "      <td>0.000000</td>\n",
       "      <td>0.000000</td>\n",
       "      <td>-17.000000</td>\n",
       "      <td>0.000000</td>\n",
       "      <td>-189.000000</td>\n",
       "      <td>0.000000</td>\n",
       "      <td>0.000000</td>\n",
       "      <td>0.000000</td>\n",
       "    </tr>\n",
       "    <tr>\n",
       "      <th>25%</th>\n",
       "      <td>63.000000</td>\n",
       "      <td>1.000000</td>\n",
       "      <td>1.000000</td>\n",
       "      <td>4.000000</td>\n",
       "      <td>1.000000</td>\n",
       "      <td>1.000000</td>\n",
       "      <td>2816.000000</td>\n",
       "      <td>300.000000</td>\n",
       "      <td>6.000000</td>\n",
       "      <td>4.000000</td>\n",
       "      <td>25.000000</td>\n",
       "      <td>6.000000</td>\n",
       "      <td>21.000000</td>\n",
       "      <td>0.000000</td>\n",
       "      <td>12.000000</td>\n",
       "    </tr>\n",
       "    <tr>\n",
       "      <th>50%</th>\n",
       "      <td>110.000000</td>\n",
       "      <td>1.000000</td>\n",
       "      <td>2.000000</td>\n",
       "      <td>5.000000</td>\n",
       "      <td>2.000000</td>\n",
       "      <td>1.000000</td>\n",
       "      <td>6480.000000</td>\n",
       "      <td>700.000000</td>\n",
       "      <td>10.000000</td>\n",
       "      <td>7.000000</td>\n",
       "      <td>39.000000</td>\n",
       "      <td>11.000000</td>\n",
       "      <td>35.000000</td>\n",
       "      <td>0.000000</td>\n",
       "      <td>17.000000</td>\n",
       "    </tr>\n",
       "    <tr>\n",
       "      <th>75%</th>\n",
       "      <td>197.020000</td>\n",
       "      <td>1.000000</td>\n",
       "      <td>4.000000</td>\n",
       "      <td>5.000000</td>\n",
       "      <td>3.000000</td>\n",
       "      <td>1.000000</td>\n",
       "      <td>18414.000000</td>\n",
       "      <td>1825.000000</td>\n",
       "      <td>15.000000</td>\n",
       "      <td>11.000000</td>\n",
       "      <td>55.000000</td>\n",
       "      <td>16.000000</td>\n",
       "      <td>50.000000</td>\n",
       "      <td>0.000000</td>\n",
       "      <td>33.000000</td>\n",
       "    </tr>\n",
       "    <tr>\n",
       "      <th>max</th>\n",
       "      <td>109312.640000</td>\n",
       "      <td>63.000000</td>\n",
       "      <td>24.000000</td>\n",
       "      <td>5.000000</td>\n",
       "      <td>20.000000</td>\n",
       "      <td>2.000000</td>\n",
       "      <td>296208.000000</td>\n",
       "      <td>40425.000000</td>\n",
       "      <td>209.000000</td>\n",
       "      <td>205.000000</td>\n",
       "      <td>82.000000</td>\n",
       "      <td>146.000000</td>\n",
       "      <td>82.000000</td>\n",
       "      <td>60.000000</td>\n",
       "      <td>82.000000</td>\n",
       "    </tr>\n",
       "  </tbody>\n",
       "</table>\n",
       "</div>"
      ],
      "text/plain": [
       "       total_payment_value    total_buys  prefered_payment_installments  \\\n",
       "count         96944.000000  96944.000000                   96944.000000   \n",
       "mean            207.138952      1.198537                       2.903883   \n",
       "std             626.445194      0.751232                       2.704329   \n",
       "min               9.590000      1.000000                       0.000000   \n",
       "25%              63.000000      1.000000                       1.000000   \n",
       "50%             110.000000      1.000000                       2.000000   \n",
       "75%             197.020000      1.000000                       4.000000   \n",
       "max          109312.640000     63.000000                      24.000000   \n",
       "\n",
       "       mean_review_score  mean_products_photos_qty  \\\n",
       "count       96944.000000              96944.000000   \n",
       "mean            4.093551                  2.249135   \n",
       "std             1.339103                  1.739502   \n",
       "min             1.000000                  1.000000   \n",
       "25%             4.000000                  1.000000   \n",
       "50%             5.000000                  2.000000   \n",
       "75%             5.000000                  3.000000   \n",
       "max             5.000000                 20.000000   \n",
       "\n",
       "       n_different_bought_products  mean_products_volume  \\\n",
       "count                 96944.000000          96944.000000   \n",
       "mean                      1.022549          15256.788955   \n",
       "std                       0.148462          23386.142592   \n",
       "min                       1.000000            168.000000   \n",
       "25%                       1.000000           2816.000000   \n",
       "50%                       1.000000           6480.000000   \n",
       "75%                       1.000000          18414.000000   \n",
       "max                       2.000000         296208.000000   \n",
       "\n",
       "       mean_products_weight_g  mean_order_process_days  \\\n",
       "count            96944.000000             96944.000000   \n",
       "mean              2108.019929                12.015463   \n",
       "std               3758.330376                 9.450100   \n",
       "min                  0.000000                 0.000000   \n",
       "25%                300.000000                 6.000000   \n",
       "50%                700.000000                10.000000   \n",
       "75%               1825.000000                15.000000   \n",
       "max              40425.000000               209.000000   \n",
       "\n",
       "       mean_order_delivery_days  mean_order_delivery_hour_minute  \\\n",
       "count              96944.000000                     96944.000000   \n",
       "mean                   8.850512                        39.821072   \n",
       "std                    8.665194                        19.200122   \n",
       "min                  -17.000000                         0.000000   \n",
       "25%                    4.000000                        25.000000   \n",
       "50%                    7.000000                        39.000000   \n",
       "75%                   11.000000                        55.000000   \n",
       "max                  205.000000                        82.000000   \n",
       "\n",
       "       mean_order_accuracy_days  mean_order_accuracy_hour_minute  \\\n",
       "count              96944.000000                     96944.000000   \n",
       "mean                  10.888606                        35.626836   \n",
       "std                   10.113564                        17.810162   \n",
       "min                 -189.000000                         0.000000   \n",
       "25%                    6.000000                        21.000000   \n",
       "50%                   11.000000                        35.000000   \n",
       "75%                   16.000000                        50.000000   \n",
       "max                  146.000000                        82.000000   \n",
       "\n",
       "       mean_order_approved_days  mean_order_approved_hour_minute  \n",
       "count              96944.000000                     96944.000000  \n",
       "mean                   0.264823                        24.366180  \n",
       "std                    0.762466                        18.361404  \n",
       "min                    0.000000                         0.000000  \n",
       "25%                    0.000000                        12.000000  \n",
       "50%                    0.000000                        17.000000  \n",
       "75%                    0.000000                        33.000000  \n",
       "max                   60.000000                        82.000000  "
      ]
     },
     "execution_count": 27,
     "metadata": {},
     "output_type": "execute_result"
    }
   ],
   "source": [
    "new_df.describe()"
   ]
  },
  {
   "cell_type": "code",
   "execution_count": 28,
   "metadata": {},
   "outputs": [
    {
     "data": {
      "text/plain": [
       "<matplotlib.axes._subplots.AxesSubplot at 0x21a736d6820>"
      ]
     },
     "execution_count": 28,
     "metadata": {},
     "output_type": "execute_result"
    },
    {
     "data": {
      "image/png": "[encoded data removed]",
      "text/plain": [
       "<Figure size 432x288 with 1 Axes>"
      ]
     },
     "metadata": {},
     "output_type": "display_data"
    }
   ],
   "source": [
    "new_df.loc[new_df['total_payment_value']>new_df['total_payment_value'].quantile(0.99),'total_payment_value'] = new_df['total_payment_value'].quantile(0.99)\n",
    "new_df.boxplot(['total_payment_value'])"
   ]
  },
  {
   "cell_type": "code",
   "execution_count": 29,
   "metadata": {},
   "outputs": [
    {
     "data": {
      "text/plain": [
       "<matplotlib.axes._subplots.AxesSubplot at 0x21a7283ddc0>"
      ]
     },
     "execution_count": 29,
     "metadata": {},
     "output_type": "execute_result"
    },
    {
     "data": {
      "image/png": "[encoded data removed]",
      "text/plain": [
       "<Figure size 432x288 with 1 Axes>"
      ]
     },
     "metadata": {},
     "output_type": "display_data"
    }
   ],
   "source": [
    "new_df.loc[new_df['total_buys']>new_df['total_buys'].quantile(0.99),'total_buys'] = new_df['total_buys'].quantile(0.99)\n",
    "new_df.boxplot(['total_buys'])"
   ]
  },
  {
   "cell_type": "code",
   "execution_count": 30,
   "metadata": {},
   "outputs": [
    {
     "data": {
      "text/plain": [
       "<matplotlib.axes._subplots.AxesSubplot at 0x21a72d41340>"
      ]
     },
     "execution_count": 30,
     "metadata": {},
     "output_type": "execute_result"
    },
    {
     "data": {
      "image/png": "[encoded data removed]",
      "text/plain": [
       "<Figure size 432x288 with 1 Axes>"
      ]
     },
     "metadata": {},
     "output_type": "display_data"
    }
   ],
   "source": [
    "new_df.loc[new_df['mean_products_weight_g']>new_df['mean_products_weight_g'].quantile(0.99),'mean_products_weight_g'] = new_df['mean_products_weight_g'].quantile(0.99)\n",
    "new_df.boxplot(['mean_products_weight_g'])\n"
   ]
  },
  {
   "cell_type": "code",
   "execution_count": 31,
   "metadata": {},
   "outputs": [
    {
     "data": {
      "text/plain": [
       "<matplotlib.axes._subplots.AxesSubplot at 0x21a72dbb790>"
      ]
     },
     "execution_count": 31,
     "metadata": {},
     "output_type": "execute_result"
    },
    {
     "data": {
      "image/png": "[encoded data removed]",
      "text/plain": [
       "<Figure size 432x288 with 1 Axes>"
      ]
     },
     "metadata": {},
     "output_type": "display_data"
    }
   ],
   "source": [
    "new_df.loc[new_df['mean_order_approved_days']>new_df['mean_order_approved_days'].quantile(0.99),'mean_order_approved_days'] = new_df['mean_order_approved_days'].quantile(0.99)\n",
    "new_df.boxplot(['mean_order_approved_days'])"
   ]
  },
  {
   "cell_type": "code",
   "execution_count": 32,
   "metadata": {},
   "outputs": [],
   "source": [
    "new_df.to_pickle('my_pickle.pkl') "
   ]
  },
  {
   "cell_type": "code",
   "execution_count": 33,
   "metadata": {},
   "outputs": [],
   "source": [
    "import pandas as pd"
   ]
  },
  {
   "cell_type": "code",
   "execution_count": 118,
   "metadata": {},
   "outputs": [],
   "source": [
    "new_df = pd.read_pickle('my_pickle.pkl')"
   ]
  },
  {
   "cell_type": "code",
   "execution_count": 119,
   "metadata": {},
   "outputs": [
    {
     "data": {
      "text/html": [
       "<div>\n",
       "<style scoped>\n",
       "    .dataframe tbody tr th:only-of-type {\n",
       "        vertical-align: middle;\n",
       "    }\n",
       "\n",
       "    .dataframe tbody tr th {\n",
       "        vertical-align: top;\n",
       "    }\n",
       "\n",
       "    .dataframe thead th {\n",
       "        text-align: right;\n",
       "    }\n",
       "</style>\n",
       "<table border=\"1\" class=\"dataframe\">\n",
       "  <thead>\n",
       "    <tr style=\"text-align: right;\">\n",
       "      <th></th>\n",
       "      <th>customer_id</th>\n",
       "      <th>total_payment_value</th>\n",
       "      <th>total_buys</th>\n",
       "      <th>prefered_payment_type</th>\n",
       "      <th>prefered_payment_installments</th>\n",
       "      <th>mean_review_score</th>\n",
       "      <th>mean_products_photos_qty</th>\n",
       "      <th>n_different_bought_products</th>\n",
       "      <th>mean_products_volume</th>\n",
       "      <th>mean_products_weight_g</th>\n",
       "      <th>mean_customer_state</th>\n",
       "      <th>mean_seller_state</th>\n",
       "      <th>mean_order_process_days</th>\n",
       "      <th>mean_order_process_hour_minute</th>\n",
       "      <th>mean_order_delivery_days</th>\n",
       "      <th>mean_order_delivery_hour_minute</th>\n",
       "      <th>mean_order_accuracy_days</th>\n",
       "      <th>mean_order_accuracy_hour_minute</th>\n",
       "      <th>mean_order_approved_days</th>\n",
       "      <th>mean_order_approved_hour_minute</th>\n",
       "    </tr>\n",
       "  </thead>\n",
       "  <tbody>\n",
       "    <tr>\n",
       "      <th>0</th>\n",
       "      <td>00012a2ce6f8dcda20d059ce98491703</td>\n",
       "      <td>114.74</td>\n",
       "      <td>1.0</td>\n",
       "      <td>credit_card</td>\n",
       "      <td>8</td>\n",
       "      <td>1.0</td>\n",
       "      <td>1.0</td>\n",
       "      <td>1</td>\n",
       "      <td>39468.0</td>\n",
       "      <td>4267.0</td>\n",
       "      <td>SP</td>\n",
       "      <td>SP</td>\n",
       "      <td>13</td>\n",
       "      <td>2333</td>\n",
       "      <td>11</td>\n",
       "      <td>9</td>\n",
       "      <td>5</td>\n",
       "      <td>26</td>\n",
       "      <td>0.0</td>\n",
       "      <td>27</td>\n",
       "    </tr>\n",
       "    <tr>\n",
       "      <th>1</th>\n",
       "      <td>000161a058600d5901f007fab4c27140</td>\n",
       "      <td>67.41</td>\n",
       "      <td>1.0</td>\n",
       "      <td>credit_card</td>\n",
       "      <td>5</td>\n",
       "      <td>4.0</td>\n",
       "      <td>2.0</td>\n",
       "      <td>1</td>\n",
       "      <td>352.0</td>\n",
       "      <td>150.0</td>\n",
       "      <td>MG</td>\n",
       "      <td>MG</td>\n",
       "      <td>9</td>\n",
       "      <td>917</td>\n",
       "      <td>5</td>\n",
       "      <td>70</td>\n",
       "      <td>9</td>\n",
       "      <td>7</td>\n",
       "      <td>0.0</td>\n",
       "      <td>14</td>\n",
       "    </tr>\n",
       "    <tr>\n",
       "      <th>2</th>\n",
       "      <td>0001fd6190edaaf884bcaf3d49edf079</td>\n",
       "      <td>195.42</td>\n",
       "      <td>1.0</td>\n",
       "      <td>credit_card</td>\n",
       "      <td>10</td>\n",
       "      <td>5.0</td>\n",
       "      <td>2.0</td>\n",
       "      <td>1</td>\n",
       "      <td>16905.0</td>\n",
       "      <td>750.0</td>\n",
       "      <td>OTROS</td>\n",
       "      <td>OTROS</td>\n",
       "      <td>5</td>\n",
       "      <td>2151</td>\n",
       "      <td>4</td>\n",
       "      <td>50</td>\n",
       "      <td>15</td>\n",
       "      <td>17</td>\n",
       "      <td>0.0</td>\n",
       "      <td>8</td>\n",
       "    </tr>\n",
       "    <tr>\n",
       "      <th>3</th>\n",
       "      <td>0002414f95344307404f0ace7a26f1d5</td>\n",
       "      <td>179.35</td>\n",
       "      <td>1.0</td>\n",
       "      <td>boleto</td>\n",
       "      <td>1</td>\n",
       "      <td>5.0</td>\n",
       "      <td>1.0</td>\n",
       "      <td>1</td>\n",
       "      <td>28800.0</td>\n",
       "      <td>1600.0</td>\n",
       "      <td>MG</td>\n",
       "      <td>OTROS</td>\n",
       "      <td>28</td>\n",
       "      <td>656</td>\n",
       "      <td>25</td>\n",
       "      <td>39</td>\n",
       "      <td>0</td>\n",
       "      <td>56</td>\n",
       "      <td>0.0</td>\n",
       "      <td>15</td>\n",
       "    </tr>\n",
       "    <tr>\n",
       "      <th>4</th>\n",
       "      <td>000379cdec625522490c315e70c7a9fb</td>\n",
       "      <td>107.01</td>\n",
       "      <td>1.0</td>\n",
       "      <td>boleto</td>\n",
       "      <td>1</td>\n",
       "      <td>4.0</td>\n",
       "      <td>2.0</td>\n",
       "      <td>1</td>\n",
       "      <td>15300.0</td>\n",
       "      <td>800.0</td>\n",
       "      <td>SP</td>\n",
       "      <td>SP</td>\n",
       "      <td>11</td>\n",
       "      <td>638</td>\n",
       "      <td>9</td>\n",
       "      <td>11</td>\n",
       "      <td>4</td>\n",
       "      <td>41</td>\n",
       "      <td>1.0</td>\n",
       "      <td>41</td>\n",
       "    </tr>\n",
       "    <tr>\n",
       "      <th>...</th>\n",
       "      <td>...</td>\n",
       "      <td>...</td>\n",
       "      <td>...</td>\n",
       "      <td>...</td>\n",
       "      <td>...</td>\n",
       "      <td>...</td>\n",
       "      <td>...</td>\n",
       "      <td>...</td>\n",
       "      <td>...</td>\n",
       "      <td>...</td>\n",
       "      <td>...</td>\n",
       "      <td>...</td>\n",
       "      <td>...</td>\n",
       "      <td>...</td>\n",
       "      <td>...</td>\n",
       "      <td>...</td>\n",
       "      <td>...</td>\n",
       "      <td>...</td>\n",
       "      <td>...</td>\n",
       "      <td>...</td>\n",
       "    </tr>\n",
       "    <tr>\n",
       "      <th>96939</th>\n",
       "      <td>fffcb937e9dd47a13f05ecb8290f4d3e</td>\n",
       "      <td>91.91</td>\n",
       "      <td>1.0</td>\n",
       "      <td>credit_card</td>\n",
       "      <td>6</td>\n",
       "      <td>5.0</td>\n",
       "      <td>1.0</td>\n",
       "      <td>1</td>\n",
       "      <td>3080.0</td>\n",
       "      <td>1250.0</td>\n",
       "      <td>SP</td>\n",
       "      <td>SP</td>\n",
       "      <td>4</td>\n",
       "      <td>1829</td>\n",
       "      <td>4</td>\n",
       "      <td>26</td>\n",
       "      <td>14</td>\n",
       "      <td>39</td>\n",
       "      <td>0.0</td>\n",
       "      <td>39</td>\n",
       "    </tr>\n",
       "    <tr>\n",
       "      <th>96940</th>\n",
       "      <td>fffecc9f79fd8c764f843e9951b11341</td>\n",
       "      <td>81.36</td>\n",
       "      <td>3.0</td>\n",
       "      <td>voucher</td>\n",
       "      <td>1</td>\n",
       "      <td>3.0</td>\n",
       "      <td>3.0</td>\n",
       "      <td>2</td>\n",
       "      <td>20000.0</td>\n",
       "      <td>2050.0</td>\n",
       "      <td>OTROS</td>\n",
       "      <td>SP</td>\n",
       "      <td>12</td>\n",
       "      <td>021</td>\n",
       "      <td>10</td>\n",
       "      <td>53</td>\n",
       "      <td>16</td>\n",
       "      <td>45</td>\n",
       "      <td>0.0</td>\n",
       "      <td>11</td>\n",
       "    </tr>\n",
       "    <tr>\n",
       "      <th>96941</th>\n",
       "      <td>fffeda5b6d849fbd39689bb92087f431</td>\n",
       "      <td>63.13</td>\n",
       "      <td>1.0</td>\n",
       "      <td>credit_card</td>\n",
       "      <td>3</td>\n",
       "      <td>4.0</td>\n",
       "      <td>4.0</td>\n",
       "      <td>1</td>\n",
       "      <td>12000.0</td>\n",
       "      <td>350.0</td>\n",
       "      <td>RJ</td>\n",
       "      <td>SP</td>\n",
       "      <td>17</td>\n",
       "      <td>427</td>\n",
       "      <td>14</td>\n",
       "      <td>42</td>\n",
       "      <td>20</td>\n",
       "      <td>61</td>\n",
       "      <td>0.0</td>\n",
       "      <td>18</td>\n",
       "    </tr>\n",
       "    <tr>\n",
       "      <th>96942</th>\n",
       "      <td>ffff42319e9b2d713724ae527742af25</td>\n",
       "      <td>214.13</td>\n",
       "      <td>1.0</td>\n",
       "      <td>credit_card</td>\n",
       "      <td>2</td>\n",
       "      <td>5.0</td>\n",
       "      <td>1.0</td>\n",
       "      <td>1</td>\n",
       "      <td>11808.0</td>\n",
       "      <td>2700.0</td>\n",
       "      <td>SP</td>\n",
       "      <td>SP</td>\n",
       "      <td>5</td>\n",
       "      <td>136</td>\n",
       "      <td>2</td>\n",
       "      <td>64</td>\n",
       "      <td>6</td>\n",
       "      <td>31</td>\n",
       "      <td>0.0</td>\n",
       "      <td>23</td>\n",
       "    </tr>\n",
       "    <tr>\n",
       "      <th>96943</th>\n",
       "      <td>ffffa3172527f765de70084a7e53aae8</td>\n",
       "      <td>91.00</td>\n",
       "      <td>2.0</td>\n",
       "      <td>credit_card</td>\n",
       "      <td>4</td>\n",
       "      <td>5.0</td>\n",
       "      <td>3.0</td>\n",
       "      <td>1</td>\n",
       "      <td>8000.0</td>\n",
       "      <td>200.0</td>\n",
       "      <td>MG</td>\n",
       "      <td>SP</td>\n",
       "      <td>12</td>\n",
       "      <td>754</td>\n",
       "      <td>5</td>\n",
       "      <td>66</td>\n",
       "      <td>11</td>\n",
       "      <td>16</td>\n",
       "      <td>0.0</td>\n",
       "      <td>12</td>\n",
       "    </tr>\n",
       "  </tbody>\n",
       "</table>\n",
       "<p>96944 rows × 20 columns</p>\n",
       "</div>"
      ],
      "text/plain": [
       "                            customer_id  total_payment_value  total_buys  \\\n",
       "0      00012a2ce6f8dcda20d059ce98491703               114.74         1.0   \n",
       "1      000161a058600d5901f007fab4c27140                67.41         1.0   \n",
       "2      0001fd6190edaaf884bcaf3d49edf079               195.42         1.0   \n",
       "3      0002414f95344307404f0ace7a26f1d5               179.35         1.0   \n",
       "4      000379cdec625522490c315e70c7a9fb               107.01         1.0   \n",
       "...                                 ...                  ...         ...   \n",
       "96939  fffcb937e9dd47a13f05ecb8290f4d3e                91.91         1.0   \n",
       "96940  fffecc9f79fd8c764f843e9951b11341                81.36         3.0   \n",
       "96941  fffeda5b6d849fbd39689bb92087f431                63.13         1.0   \n",
       "96942  ffff42319e9b2d713724ae527742af25               214.13         1.0   \n",
       "96943  ffffa3172527f765de70084a7e53aae8                91.00         2.0   \n",
       "\n",
       "      prefered_payment_type  prefered_payment_installments  mean_review_score  \\\n",
       "0               credit_card                              8                1.0   \n",
       "1               credit_card                              5                4.0   \n",
       "2               credit_card                             10                5.0   \n",
       "3                    boleto                              1                5.0   \n",
       "4                    boleto                              1                4.0   \n",
       "...                     ...                            ...                ...   \n",
       "96939           credit_card                              6                5.0   \n",
       "96940               voucher                              1                3.0   \n",
       "96941           credit_card                              3                4.0   \n",
       "96942           credit_card                              2                5.0   \n",
       "96943           credit_card                              4                5.0   \n",
       "\n",
       "       mean_products_photos_qty  n_different_bought_products  \\\n",
       "0                           1.0                            1   \n",
       "1                           2.0                            1   \n",
       "2                           2.0                            1   \n",
       "3                           1.0                            1   \n",
       "4                           2.0                            1   \n",
       "...                         ...                          ...   \n",
       "96939                       1.0                            1   \n",
       "96940                       3.0                            2   \n",
       "96941                       4.0                            1   \n",
       "96942                       1.0                            1   \n",
       "96943                       3.0                            1   \n",
       "\n",
       "       mean_products_volume  mean_products_weight_g mean_customer_state  \\\n",
       "0                   39468.0                  4267.0                  SP   \n",
       "1                     352.0                   150.0                  MG   \n",
       "2                   16905.0                   750.0               OTROS   \n",
       "3                   28800.0                  1600.0                  MG   \n",
       "4                   15300.0                   800.0                  SP   \n",
       "...                     ...                     ...                 ...   \n",
       "96939                3080.0                  1250.0                  SP   \n",
       "96940               20000.0                  2050.0               OTROS   \n",
       "96941               12000.0                   350.0                  RJ   \n",
       "96942               11808.0                  2700.0                  SP   \n",
       "96943                8000.0                   200.0                  MG   \n",
       "\n",
       "      mean_seller_state  mean_order_process_days  \\\n",
       "0                    SP                       13   \n",
       "1                    MG                        9   \n",
       "2                 OTROS                        5   \n",
       "3                 OTROS                       28   \n",
       "4                    SP                       11   \n",
       "...                 ...                      ...   \n",
       "96939                SP                        4   \n",
       "96940                SP                       12   \n",
       "96941                SP                       17   \n",
       "96942                SP                        5   \n",
       "96943                SP                       12   \n",
       "\n",
       "      mean_order_process_hour_minute  mean_order_delivery_days  \\\n",
       "0                               2333                        11   \n",
       "1                                917                         5   \n",
       "2                               2151                         4   \n",
       "3                                656                        25   \n",
       "4                                638                         9   \n",
       "...                              ...                       ...   \n",
       "96939                           1829                         4   \n",
       "96940                            021                        10   \n",
       "96941                            427                        14   \n",
       "96942                            136                         2   \n",
       "96943                            754                         5   \n",
       "\n",
       "       mean_order_delivery_hour_minute  mean_order_accuracy_days  \\\n",
       "0                                    9                         5   \n",
       "1                                   70                         9   \n",
       "2                                   50                        15   \n",
       "3                                   39                         0   \n",
       "4                                   11                         4   \n",
       "...                                ...                       ...   \n",
       "96939                               26                        14   \n",
       "96940                               53                        16   \n",
       "96941                               42                        20   \n",
       "96942                               64                         6   \n",
       "96943                               66                        11   \n",
       "\n",
       "       mean_order_accuracy_hour_minute  mean_order_approved_days  \\\n",
       "0                                   26                       0.0   \n",
       "1                                    7                       0.0   \n",
       "2                                   17                       0.0   \n",
       "3                                   56                       0.0   \n",
       "4                                   41                       1.0   \n",
       "...                                ...                       ...   \n",
       "96939                               39                       0.0   \n",
       "96940                               45                       0.0   \n",
       "96941                               61                       0.0   \n",
       "96942                               31                       0.0   \n",
       "96943                               16                       0.0   \n",
       "\n",
       "       mean_order_approved_hour_minute  \n",
       "0                                   27  \n",
       "1                                   14  \n",
       "2                                    8  \n",
       "3                                   15  \n",
       "4                                   41  \n",
       "...                                ...  \n",
       "96939                               39  \n",
       "96940                               11  \n",
       "96941                               18  \n",
       "96942                               23  \n",
       "96943                               12  \n",
       "\n",
       "[96944 rows x 20 columns]"
      ]
     },
     "execution_count": 119,
     "metadata": {},
     "output_type": "execute_result"
    }
   ],
   "source": [
    "new_df.reset_index()"
   ]
  },
  {
   "cell_type": "markdown",
   "metadata": {},
   "source": [
    "#### Usamos Label Encoding para convertir las variables categoricas a numericas."
   ]
  },
  {
   "cell_type": "code",
   "execution_count": 120,
   "metadata": {},
   "outputs": [
    {
     "data": {
      "text/html": [
       "<div>\n",
       "<style scoped>\n",
       "    .dataframe tbody tr th:only-of-type {\n",
       "        vertical-align: middle;\n",
       "    }\n",
       "\n",
       "    .dataframe tbody tr th {\n",
       "        vertical-align: top;\n",
       "    }\n",
       "\n",
       "    .dataframe thead th {\n",
       "        text-align: right;\n",
       "    }\n",
       "</style>\n",
       "<table border=\"1\" class=\"dataframe\">\n",
       "  <thead>\n",
       "    <tr style=\"text-align: right;\">\n",
       "      <th></th>\n",
       "      <th>total_payment_value</th>\n",
       "      <th>total_buys</th>\n",
       "      <th>prefered_payment_installments</th>\n",
       "      <th>mean_review_score</th>\n",
       "      <th>mean_products_photos_qty</th>\n",
       "      <th>n_different_bought_products</th>\n",
       "      <th>mean_products_volume</th>\n",
       "      <th>mean_products_weight_g</th>\n",
       "      <th>mean_order_process_days</th>\n",
       "      <th>mean_order_process_hour_minute</th>\n",
       "      <th>mean_order_delivery_days</th>\n",
       "      <th>mean_order_delivery_hour_minute</th>\n",
       "      <th>mean_order_accuracy_days</th>\n",
       "      <th>mean_order_accuracy_hour_minute</th>\n",
       "      <th>mean_order_approved_days</th>\n",
       "      <th>mean_order_approved_hour_minute</th>\n",
       "      <th>prefered_payment_type_n</th>\n",
       "      <th>mean_customer_state_n</th>\n",
       "      <th>mean_seller_state_n</th>\n",
       "    </tr>\n",
       "    <tr>\n",
       "      <th>customer_id</th>\n",
       "      <th></th>\n",
       "      <th></th>\n",
       "      <th></th>\n",
       "      <th></th>\n",
       "      <th></th>\n",
       "      <th></th>\n",
       "      <th></th>\n",
       "      <th></th>\n",
       "      <th></th>\n",
       "      <th></th>\n",
       "      <th></th>\n",
       "      <th></th>\n",
       "      <th></th>\n",
       "      <th></th>\n",
       "      <th></th>\n",
       "      <th></th>\n",
       "      <th></th>\n",
       "      <th></th>\n",
       "      <th></th>\n",
       "    </tr>\n",
       "  </thead>\n",
       "  <tbody>\n",
       "    <tr>\n",
       "      <th>00012a2ce6f8dcda20d059ce98491703</th>\n",
       "      <td>114.74</td>\n",
       "      <td>1.0</td>\n",
       "      <td>8</td>\n",
       "      <td>1.0</td>\n",
       "      <td>1.0</td>\n",
       "      <td>1</td>\n",
       "      <td>39468.0</td>\n",
       "      <td>4267.0</td>\n",
       "      <td>13</td>\n",
       "      <td>2333</td>\n",
       "      <td>11</td>\n",
       "      <td>9</td>\n",
       "      <td>5</td>\n",
       "      <td>26</td>\n",
       "      <td>0.0</td>\n",
       "      <td>27</td>\n",
       "      <td>1</td>\n",
       "      <td>3</td>\n",
       "      <td>3</td>\n",
       "    </tr>\n",
       "    <tr>\n",
       "      <th>000161a058600d5901f007fab4c27140</th>\n",
       "      <td>67.41</td>\n",
       "      <td>1.0</td>\n",
       "      <td>5</td>\n",
       "      <td>4.0</td>\n",
       "      <td>2.0</td>\n",
       "      <td>1</td>\n",
       "      <td>352.0</td>\n",
       "      <td>150.0</td>\n",
       "      <td>9</td>\n",
       "      <td>917</td>\n",
       "      <td>5</td>\n",
       "      <td>70</td>\n",
       "      <td>9</td>\n",
       "      <td>7</td>\n",
       "      <td>0.0</td>\n",
       "      <td>14</td>\n",
       "      <td>1</td>\n",
       "      <td>0</td>\n",
       "      <td>0</td>\n",
       "    </tr>\n",
       "    <tr>\n",
       "      <th>0001fd6190edaaf884bcaf3d49edf079</th>\n",
       "      <td>195.42</td>\n",
       "      <td>1.0</td>\n",
       "      <td>10</td>\n",
       "      <td>5.0</td>\n",
       "      <td>2.0</td>\n",
       "      <td>1</td>\n",
       "      <td>16905.0</td>\n",
       "      <td>750.0</td>\n",
       "      <td>5</td>\n",
       "      <td>2151</td>\n",
       "      <td>4</td>\n",
       "      <td>50</td>\n",
       "      <td>15</td>\n",
       "      <td>17</td>\n",
       "      <td>0.0</td>\n",
       "      <td>8</td>\n",
       "      <td>1</td>\n",
       "      <td>1</td>\n",
       "      <td>1</td>\n",
       "    </tr>\n",
       "    <tr>\n",
       "      <th>0002414f95344307404f0ace7a26f1d5</th>\n",
       "      <td>179.35</td>\n",
       "      <td>1.0</td>\n",
       "      <td>1</td>\n",
       "      <td>5.0</td>\n",
       "      <td>1.0</td>\n",
       "      <td>1</td>\n",
       "      <td>28800.0</td>\n",
       "      <td>1600.0</td>\n",
       "      <td>28</td>\n",
       "      <td>656</td>\n",
       "      <td>25</td>\n",
       "      <td>39</td>\n",
       "      <td>0</td>\n",
       "      <td>56</td>\n",
       "      <td>0.0</td>\n",
       "      <td>15</td>\n",
       "      <td>0</td>\n",
       "      <td>0</td>\n",
       "      <td>1</td>\n",
       "    </tr>\n",
       "    <tr>\n",
       "      <th>000379cdec625522490c315e70c7a9fb</th>\n",
       "      <td>107.01</td>\n",
       "      <td>1.0</td>\n",
       "      <td>1</td>\n",
       "      <td>4.0</td>\n",
       "      <td>2.0</td>\n",
       "      <td>1</td>\n",
       "      <td>15300.0</td>\n",
       "      <td>800.0</td>\n",
       "      <td>11</td>\n",
       "      <td>638</td>\n",
       "      <td>9</td>\n",
       "      <td>11</td>\n",
       "      <td>4</td>\n",
       "      <td>41</td>\n",
       "      <td>1.0</td>\n",
       "      <td>41</td>\n",
       "      <td>0</td>\n",
       "      <td>3</td>\n",
       "      <td>3</td>\n",
       "    </tr>\n",
       "  </tbody>\n",
       "</table>\n",
       "</div>"
      ],
      "text/plain": [
       "                                  total_payment_value  total_buys  \\\n",
       "customer_id                                                         \n",
       "00012a2ce6f8dcda20d059ce98491703               114.74         1.0   \n",
       "000161a058600d5901f007fab4c27140                67.41         1.0   \n",
       "0001fd6190edaaf884bcaf3d49edf079               195.42         1.0   \n",
       "0002414f95344307404f0ace7a26f1d5               179.35         1.0   \n",
       "000379cdec625522490c315e70c7a9fb               107.01         1.0   \n",
       "\n",
       "                                  prefered_payment_installments  \\\n",
       "customer_id                                                       \n",
       "00012a2ce6f8dcda20d059ce98491703                              8   \n",
       "000161a058600d5901f007fab4c27140                              5   \n",
       "0001fd6190edaaf884bcaf3d49edf079                             10   \n",
       "0002414f95344307404f0ace7a26f1d5                              1   \n",
       "000379cdec625522490c315e70c7a9fb                              1   \n",
       "\n",
       "                                  mean_review_score  mean_products_photos_qty  \\\n",
       "customer_id                                                                     \n",
       "00012a2ce6f8dcda20d059ce98491703                1.0                       1.0   \n",
       "000161a058600d5901f007fab4c27140                4.0                       2.0   \n",
       "0001fd6190edaaf884bcaf3d49edf079                5.0                       2.0   \n",
       "0002414f95344307404f0ace7a26f1d5                5.0                       1.0   \n",
       "000379cdec625522490c315e70c7a9fb                4.0                       2.0   \n",
       "\n",
       "                                  n_different_bought_products  \\\n",
       "customer_id                                                     \n",
       "00012a2ce6f8dcda20d059ce98491703                            1   \n",
       "000161a058600d5901f007fab4c27140                            1   \n",
       "0001fd6190edaaf884bcaf3d49edf079                            1   \n",
       "0002414f95344307404f0ace7a26f1d5                            1   \n",
       "000379cdec625522490c315e70c7a9fb                            1   \n",
       "\n",
       "                                  mean_products_volume  \\\n",
       "customer_id                                              \n",
       "00012a2ce6f8dcda20d059ce98491703               39468.0   \n",
       "000161a058600d5901f007fab4c27140                 352.0   \n",
       "0001fd6190edaaf884bcaf3d49edf079               16905.0   \n",
       "0002414f95344307404f0ace7a26f1d5               28800.0   \n",
       "000379cdec625522490c315e70c7a9fb               15300.0   \n",
       "\n",
       "                                  mean_products_weight_g  \\\n",
       "customer_id                                                \n",
       "00012a2ce6f8dcda20d059ce98491703                  4267.0   \n",
       "000161a058600d5901f007fab4c27140                   150.0   \n",
       "0001fd6190edaaf884bcaf3d49edf079                   750.0   \n",
       "0002414f95344307404f0ace7a26f1d5                  1600.0   \n",
       "000379cdec625522490c315e70c7a9fb                   800.0   \n",
       "\n",
       "                                  mean_order_process_days  \\\n",
       "customer_id                                                 \n",
       "00012a2ce6f8dcda20d059ce98491703                       13   \n",
       "000161a058600d5901f007fab4c27140                        9   \n",
       "0001fd6190edaaf884bcaf3d49edf079                        5   \n",
       "0002414f95344307404f0ace7a26f1d5                       28   \n",
       "000379cdec625522490c315e70c7a9fb                       11   \n",
       "\n",
       "                                 mean_order_process_hour_minute  \\\n",
       "customer_id                                                       \n",
       "00012a2ce6f8dcda20d059ce98491703                           2333   \n",
       "000161a058600d5901f007fab4c27140                            917   \n",
       "0001fd6190edaaf884bcaf3d49edf079                           2151   \n",
       "0002414f95344307404f0ace7a26f1d5                            656   \n",
       "000379cdec625522490c315e70c7a9fb                            638   \n",
       "\n",
       "                                  mean_order_delivery_days  \\\n",
       "customer_id                                                  \n",
       "00012a2ce6f8dcda20d059ce98491703                        11   \n",
       "000161a058600d5901f007fab4c27140                         5   \n",
       "0001fd6190edaaf884bcaf3d49edf079                         4   \n",
       "0002414f95344307404f0ace7a26f1d5                        25   \n",
       "000379cdec625522490c315e70c7a9fb                         9   \n",
       "\n",
       "                                  mean_order_delivery_hour_minute  \\\n",
       "customer_id                                                         \n",
       "00012a2ce6f8dcda20d059ce98491703                                9   \n",
       "000161a058600d5901f007fab4c27140                               70   \n",
       "0001fd6190edaaf884bcaf3d49edf079                               50   \n",
       "0002414f95344307404f0ace7a26f1d5                               39   \n",
       "000379cdec625522490c315e70c7a9fb                               11   \n",
       "\n",
       "                                  mean_order_accuracy_days  \\\n",
       "customer_id                                                  \n",
       "00012a2ce6f8dcda20d059ce98491703                         5   \n",
       "000161a058600d5901f007fab4c27140                         9   \n",
       "0001fd6190edaaf884bcaf3d49edf079                        15   \n",
       "0002414f95344307404f0ace7a26f1d5                         0   \n",
       "000379cdec625522490c315e70c7a9fb                         4   \n",
       "\n",
       "                                  mean_order_accuracy_hour_minute  \\\n",
       "customer_id                                                         \n",
       "00012a2ce6f8dcda20d059ce98491703                               26   \n",
       "000161a058600d5901f007fab4c27140                                7   \n",
       "0001fd6190edaaf884bcaf3d49edf079                               17   \n",
       "0002414f95344307404f0ace7a26f1d5                               56   \n",
       "000379cdec625522490c315e70c7a9fb                               41   \n",
       "\n",
       "                                  mean_order_approved_days  \\\n",
       "customer_id                                                  \n",
       "00012a2ce6f8dcda20d059ce98491703                       0.0   \n",
       "000161a058600d5901f007fab4c27140                       0.0   \n",
       "0001fd6190edaaf884bcaf3d49edf079                       0.0   \n",
       "0002414f95344307404f0ace7a26f1d5                       0.0   \n",
       "000379cdec625522490c315e70c7a9fb                       1.0   \n",
       "\n",
       "                                  mean_order_approved_hour_minute  \\\n",
       "customer_id                                                         \n",
       "00012a2ce6f8dcda20d059ce98491703                               27   \n",
       "000161a058600d5901f007fab4c27140                               14   \n",
       "0001fd6190edaaf884bcaf3d49edf079                                8   \n",
       "0002414f95344307404f0ace7a26f1d5                               15   \n",
       "000379cdec625522490c315e70c7a9fb                               41   \n",
       "\n",
       "                                  prefered_payment_type_n  \\\n",
       "customer_id                                                 \n",
       "00012a2ce6f8dcda20d059ce98491703                        1   \n",
       "000161a058600d5901f007fab4c27140                        1   \n",
       "0001fd6190edaaf884bcaf3d49edf079                        1   \n",
       "0002414f95344307404f0ace7a26f1d5                        0   \n",
       "000379cdec625522490c315e70c7a9fb                        0   \n",
       "\n",
       "                                  mean_customer_state_n  mean_seller_state_n  \n",
       "customer_id                                                                   \n",
       "00012a2ce6f8dcda20d059ce98491703                      3                    3  \n",
       "000161a058600d5901f007fab4c27140                      0                    0  \n",
       "0001fd6190edaaf884bcaf3d49edf079                      1                    1  \n",
       "0002414f95344307404f0ace7a26f1d5                      0                    1  \n",
       "000379cdec625522490c315e70c7a9fb                      3                    3  "
      ]
     },
     "execution_count": 120,
     "metadata": {},
     "output_type": "execute_result"
    }
   ],
   "source": [
    "encoder = preprocessing.LabelEncoder()\n",
    "new_df[\"prefered_payment_type_n\"] = encoder.fit_transform(new_df[\"prefered_payment_type\"].fillna('Nan'))\n",
    "new_df[\"mean_customer_state_n\"] = encoder.fit_transform(new_df[\"mean_customer_state\"].fillna('Nan'))\n",
    "new_df[\"mean_seller_state_n\"] = encoder.fit_transform(new_df[\"mean_seller_state\"].fillna('Nan'))\n",
    "\n",
    "new_df.drop(labels=[\"prefered_payment_type\",\"mean_customer_state\",\"mean_seller_state\"],inplace=True,axis=1)\n",
    "new_df.head()"
   ]
  },
  {
   "cell_type": "markdown",
   "metadata": {},
   "source": [
    "#### Escalamos el dataset con mean = 0 y std =1"
   ]
  },
  {
   "cell_type": "code",
   "execution_count": 61,
   "metadata": {},
   "outputs": [
    {
     "data": {
      "text/html": [
       "<div>\n",
       "<style scoped>\n",
       "    .dataframe tbody tr th:only-of-type {\n",
       "        vertical-align: middle;\n",
       "    }\n",
       "\n",
       "    .dataframe tbody tr th {\n",
       "        vertical-align: top;\n",
       "    }\n",
       "\n",
       "    .dataframe thead th {\n",
       "        text-align: right;\n",
       "    }\n",
       "</style>\n",
       "<table border=\"1\" class=\"dataframe\">\n",
       "  <thead>\n",
       "    <tr style=\"text-align: right;\">\n",
       "      <th></th>\n",
       "      <th>total_payment_value</th>\n",
       "      <th>total_buys</th>\n",
       "      <th>prefered_payment_installments</th>\n",
       "      <th>mean_review_score</th>\n",
       "      <th>mean_products_photos_qty</th>\n",
       "      <th>n_different_bought_products</th>\n",
       "      <th>mean_products_volume</th>\n",
       "      <th>mean_products_weight_g</th>\n",
       "      <th>mean_order_process_days</th>\n",
       "      <th>mean_order_process_hour_minute</th>\n",
       "      <th>mean_order_delivery_days</th>\n",
       "      <th>mean_order_delivery_hour_minute</th>\n",
       "      <th>mean_order_accuracy_days</th>\n",
       "      <th>mean_order_accuracy_hour_minute</th>\n",
       "      <th>mean_order_approved_days</th>\n",
       "      <th>mean_order_approved_hour_minute</th>\n",
       "      <th>prefered_payment_type_n</th>\n",
       "      <th>mean_customer_state_n</th>\n",
       "      <th>mean_seller_state_n</th>\n",
       "    </tr>\n",
       "  </thead>\n",
       "  <tbody>\n",
       "    <tr>\n",
       "      <th>0</th>\n",
       "      <td>-0.294659</td>\n",
       "      <td>-0.341327</td>\n",
       "      <td>1.884439</td>\n",
       "      <td>-2.310178</td>\n",
       "      <td>-0.718103</td>\n",
       "      <td>-0.151886</td>\n",
       "      <td>1.035286</td>\n",
       "      <td>0.652756</td>\n",
       "      <td>0.104183</td>\n",
       "      <td>1.745167</td>\n",
       "      <td>0.248061</td>\n",
       "      <td>-1.605262</td>\n",
       "      <td>-0.582251</td>\n",
       "      <td>-0.540528</td>\n",
       "      <td>-0.403464</td>\n",
       "      <td>0.143444</td>\n",
       "      <td>0.278608</td>\n",
       "      <td>1.048407</td>\n",
       "      <td>0.589181</td>\n",
       "    </tr>\n",
       "    <tr>\n",
       "      <th>1</th>\n",
       "      <td>-0.484269</td>\n",
       "      <td>-0.341327</td>\n",
       "      <td>0.775101</td>\n",
       "      <td>-0.069861</td>\n",
       "      <td>-0.143223</td>\n",
       "      <td>-0.151886</td>\n",
       "      <td>-0.637338</td>\n",
       "      <td>-0.557499</td>\n",
       "      <td>-0.319095</td>\n",
       "      <td>-0.033016</td>\n",
       "      <td>-0.444368</td>\n",
       "      <td>1.571817</td>\n",
       "      <td>-0.186741</td>\n",
       "      <td>-1.607340</td>\n",
       "      <td>-0.403464</td>\n",
       "      <td>-0.564567</td>\n",
       "      <td>0.278608</td>\n",
       "      <td>-1.690637</td>\n",
       "      <td>-2.427060</td>\n",
       "    </tr>\n",
       "    <tr>\n",
       "      <th>2</th>\n",
       "      <td>0.028555</td>\n",
       "      <td>-0.341327</td>\n",
       "      <td>2.623998</td>\n",
       "      <td>0.676911</td>\n",
       "      <td>-0.143223</td>\n",
       "      <td>-0.151886</td>\n",
       "      <td>0.070478</td>\n",
       "      <td>-0.381120</td>\n",
       "      <td>-0.742373</td>\n",
       "      <td>1.516616</td>\n",
       "      <td>-0.559772</td>\n",
       "      <td>0.530152</td>\n",
       "      <td>0.406525</td>\n",
       "      <td>-1.045860</td>\n",
       "      <td>-0.403464</td>\n",
       "      <td>-0.891341</td>\n",
       "      <td>0.278608</td>\n",
       "      <td>-0.777622</td>\n",
       "      <td>-1.421646</td>\n",
       "    </tr>\n",
       "    <tr>\n",
       "      <th>3</th>\n",
       "      <td>-0.035823</td>\n",
       "      <td>-0.341327</td>\n",
       "      <td>-0.704017</td>\n",
       "      <td>0.676911</td>\n",
       "      <td>-0.718103</td>\n",
       "      <td>-0.151886</td>\n",
       "      <td>0.579116</td>\n",
       "      <td>-0.131249</td>\n",
       "      <td>1.691476</td>\n",
       "      <td>-0.360774</td>\n",
       "      <td>1.863729</td>\n",
       "      <td>-0.042764</td>\n",
       "      <td>-1.076639</td>\n",
       "      <td>1.143913</td>\n",
       "      <td>-0.403464</td>\n",
       "      <td>-0.510104</td>\n",
       "      <td>-1.643633</td>\n",
       "      <td>-1.690637</td>\n",
       "      <td>-1.421646</td>\n",
       "    </tr>\n",
       "    <tr>\n",
       "      <th>4</th>\n",
       "      <td>-0.325627</td>\n",
       "      <td>-0.341327</td>\n",
       "      <td>-0.704017</td>\n",
       "      <td>-0.069861</td>\n",
       "      <td>-0.143223</td>\n",
       "      <td>-0.151886</td>\n",
       "      <td>0.001848</td>\n",
       "      <td>-0.366422</td>\n",
       "      <td>-0.107456</td>\n",
       "      <td>-0.383378</td>\n",
       "      <td>0.017252</td>\n",
       "      <td>-1.501096</td>\n",
       "      <td>-0.681129</td>\n",
       "      <td>0.301692</td>\n",
       "      <td>1.219498</td>\n",
       "      <td>0.905917</td>\n",
       "      <td>-1.643633</td>\n",
       "      <td>1.048407</td>\n",
       "      <td>0.589181</td>\n",
       "    </tr>\n",
       "  </tbody>\n",
       "</table>\n",
       "</div>"
      ],
      "text/plain": [
       "   total_payment_value  total_buys  prefered_payment_installments  \\\n",
       "0            -0.294659   -0.341327                       1.884439   \n",
       "1            -0.484269   -0.341327                       0.775101   \n",
       "2             0.028555   -0.341327                       2.623998   \n",
       "3            -0.035823   -0.341327                      -0.704017   \n",
       "4            -0.325627   -0.341327                      -0.704017   \n",
       "\n",
       "   mean_review_score  mean_products_photos_qty  n_different_bought_products  \\\n",
       "0          -2.310178                 -0.718103                    -0.151886   \n",
       "1          -0.069861                 -0.143223                    -0.151886   \n",
       "2           0.676911                 -0.143223                    -0.151886   \n",
       "3           0.676911                 -0.718103                    -0.151886   \n",
       "4          -0.069861                 -0.143223                    -0.151886   \n",
       "\n",
       "   mean_products_volume  mean_products_weight_g  mean_order_process_days  \\\n",
       "0              1.035286                0.652756                 0.104183   \n",
       "1             -0.637338               -0.557499                -0.319095   \n",
       "2              0.070478               -0.381120                -0.742373   \n",
       "3              0.579116               -0.131249                 1.691476   \n",
       "4              0.001848               -0.366422                -0.107456   \n",
       "\n",
       "   mean_order_process_hour_minute  mean_order_delivery_days  \\\n",
       "0                        1.745167                  0.248061   \n",
       "1                       -0.033016                 -0.444368   \n",
       "2                        1.516616                 -0.559772   \n",
       "3                       -0.360774                  1.863729   \n",
       "4                       -0.383378                  0.017252   \n",
       "\n",
       "   mean_order_delivery_hour_minute  mean_order_accuracy_days  \\\n",
       "0                        -1.605262                 -0.582251   \n",
       "1                         1.571817                 -0.186741   \n",
       "2                         0.530152                  0.406525   \n",
       "3                        -0.042764                 -1.076639   \n",
       "4                        -1.501096                 -0.681129   \n",
       "\n",
       "   mean_order_accuracy_hour_minute  mean_order_approved_days  \\\n",
       "0                        -0.540528                 -0.403464   \n",
       "1                        -1.607340                 -0.403464   \n",
       "2                        -1.045860                 -0.403464   \n",
       "3                         1.143913                 -0.403464   \n",
       "4                         0.301692                  1.219498   \n",
       "\n",
       "   mean_order_approved_hour_minute  prefered_payment_type_n  \\\n",
       "0                         0.143444                 0.278608   \n",
       "1                        -0.564567                 0.278608   \n",
       "2                        -0.891341                 0.278608   \n",
       "3                        -0.510104                -1.643633   \n",
       "4                         0.905917                -1.643633   \n",
       "\n",
       "   mean_customer_state_n  mean_seller_state_n  \n",
       "0               1.048407             0.589181  \n",
       "1              -1.690637            -2.427060  \n",
       "2              -0.777622            -1.421646  \n",
       "3              -1.690637            -1.421646  \n",
       "4               1.048407             0.589181  "
      ]
     },
     "execution_count": 61,
     "metadata": {},
     "output_type": "execute_result"
    }
   ],
   "source": [
    "scaler = StandardScaler()\n",
    "df_scaled = scaler.fit_transform(new_df)\n",
    "df_scaled=pd.DataFrame(df_scaled)\n",
    "df_scaled.columns = new_df.columns\n",
    "df_scaled.head()"
   ]
  },
  {
   "cell_type": "markdown",
   "metadata": {},
   "source": [
    "#### Analizamos la correlacion entre las variables del dataset."
   ]
  },
  {
   "cell_type": "code",
   "execution_count": 156,
   "metadata": {},
   "outputs": [
    {
     "data": {
      "text/plain": [
       "<matplotlib.axes._subplots.AxesSubplot at 0x21a13527670>"
      ]
     },
     "execution_count": 156,
     "metadata": {},
     "output_type": "execute_result"
    },
    {
     "data": {
      "image/png": "[encoded data removed]",
      "text/plain": [
       "<Figure size 1440x1440 with 2 Axes>"
      ]
     },
     "metadata": {},
     "output_type": "display_data"
    }
   ],
   "source": [
    "fig, ax = plt.subplots(figsize=(20,20))         \n",
    "sns.heatmap(data=new_df.corr(), cmap='binary')"
   ]
  },
  {
   "cell_type": "markdown",
   "metadata": {},
   "source": [
    "### Buscamos K"
   ]
  },
  {
   "cell_type": "code",
   "execution_count": 121,
   "metadata": {},
   "outputs": [],
   "source": [
    "from sklearn.cluster import KMeans\n",
    "from sklearn.datasets import make_blobs\n",
    "import matplotlib.pyplot as plt"
   ]
  },
  {
   "cell_type": "code",
   "execution_count": 122,
   "metadata": {},
   "outputs": [
    {
     "data": {
      "text/plain": [
       "[KMeans(n_clusters=1),\n",
       " KMeans(n_clusters=2),\n",
       " KMeans(n_clusters=3),\n",
       " KMeans(n_clusters=4),\n",
       " KMeans(n_clusters=5),\n",
       " KMeans(n_clusters=6),\n",
       " KMeans(n_clusters=7),\n",
       " KMeans(),\n",
       " KMeans(n_clusters=9),\n",
       " KMeans(n_clusters=10),\n",
       " KMeans(n_clusters=11),\n",
       " KMeans(n_clusters=12),\n",
       " KMeans(n_clusters=13),\n",
       " KMeans(n_clusters=14),\n",
       " KMeans(n_clusters=15),\n",
       " KMeans(n_clusters=16),\n",
       " KMeans(n_clusters=17),\n",
       " KMeans(n_clusters=18),\n",
       " KMeans(n_clusters=19),\n",
       " KMeans(n_clusters=20)]"
      ]
     },
     "execution_count": 122,
     "metadata": {},
     "output_type": "execute_result"
    }
   ],
   "source": [
    "Nc = range(1, 21) # pruebo con 1 cluster, 2 clusters... 20 clusters\n",
    "# creo los kmeans\n",
    "kmeans = []\n",
    "for i in Nc:\n",
    "    kmeans.append(KMeans(n_clusters=i))\n",
    "\n",
    "kmeans"
   ]
  },
  {
   "cell_type": "markdown",
   "metadata": {},
   "source": [
    "#### Elegimos variables para clusterizar, en este caso utilizamos 5."
   ]
  },
  {
   "cell_type": "code",
   "execution_count": 123,
   "metadata": {},
   "outputs": [],
   "source": [
    "X = new_df[['mean_products_photos_qty','mean_customer_state_n','mean_review_score','total_payment_value','prefered_payment_type_n']]"
   ]
  },
  {
   "cell_type": "code",
   "execution_count": 124,
   "metadata": {},
   "outputs": [],
   "source": [
    "# ejecuto kmeans con cada uno de los clusters\n",
    "X = X.sample(frac=0.05)\n",
    "score = [None] * 20\n",
    "\n",
    "for i in range(len(kmeans)):\n",
    "    score[i] = (kmeans[i].fit(X).inertia_)  #score(X))\n",
    "    \n",
    "# score nos da 0 si los elementos son muy parecidos, o el \"opuesto\" al objetivo de kmeans (minimizar distancia)\n",
    "    "
   ]
  },
  {
   "cell_type": "code",
   "execution_count": 125,
   "metadata": {},
   "outputs": [
    {
     "data": {
      "image/png": "[encoded data removed]",
      "text/plain": [
       "<Figure size 432x288 with 1 Axes>"
      ]
     },
     "metadata": {},
     "output_type": "display_data"
    }
   ],
   "source": [
    "plt.plot(Nc,score)\n",
    "plt.xlabel('Cantidad de clusters')\n",
    "plt.ylabel('Score')\n",
    "plt.title('Elbow Curve (Curva codo)')\n",
    "plt.xticks(Nc)\n",
    "plt.show()"
   ]
  },
  {
   "cell_type": "markdown",
   "metadata": {},
   "source": [
    "#### Metodo de la silueta"
   ]
  },
  {
   "cell_type": "code",
   "execution_count": 126,
   "metadata": {},
   "outputs": [
    {
     "data": {
      "text/plain": [
       "[0.8277846186699992,\n",
       " 0.7404733693271301,\n",
       " 0.6423335577631044,\n",
       " 0.6043133673960661,\n",
       " 0.604524914369126,\n",
       " 0.5858277391363128,\n",
       " 0.5700756752150113,\n",
       " 0.5742615527441687,\n",
       " 0.5541666577875415]"
      ]
     },
     "execution_count": 126,
     "metadata": {},
     "output_type": "execute_result"
    }
   ],
   "source": [
    "sil = []\n",
    "Nc = range(2, 11)\n",
    "for k in range(2, 11):\n",
    "  kmeans = KMeans(n_clusters = k).fit(X)\n",
    "  labels = kmeans.labels_\n",
    "  sil.append(silhouette_score(X, labels, metric = 'euclidean'))\n",
    "\n",
    "sil"
   ]
  },
  {
   "cell_type": "code",
   "execution_count": 127,
   "metadata": {},
   "outputs": [
    {
     "data": {
      "image/png": "[encoded data removed]",
      "text/plain": [
       "<Figure size 432x288 with 1 Axes>"
      ]
     },
     "metadata": {},
     "output_type": "display_data"
    }
   ],
   "source": [
    "plt.plot(Nc,sil)\n",
    "plt.xlabel('Cantidad de clusters')\n",
    "plt.ylabel('Score')\n",
    "plt.title('Silhoutte Curve (Curva silueta)')\n",
    "plt.xticks(Nc)\n",
    "plt.show()"
   ]
  },
  {
   "cell_type": "markdown",
   "metadata": {},
   "source": [
    "Concluimos en que utilizaremos 3 o 4 clusters"
   ]
  },
  {
   "cell_type": "markdown",
   "metadata": {},
   "source": [
    "#### Utilizando 4 clusters"
   ]
  },
  {
   "cell_type": "code",
   "execution_count": 129,
   "metadata": {},
   "outputs": [
    {
     "name": "stdout",
     "output_type": "stream",
     "text": [
      "[[2.28550767e+00 1.86288690e+00 4.12332466e+00 8.77289933e+01\n",
      "  8.38588371e-01]\n",
      " [2.34035088e+00 1.75438596e+00 3.82105263e+00 6.70967509e+02\n",
      "  8.14035088e-01]\n",
      " [2.27184306e+00 1.82096934e+00 3.96538081e+00 2.73021128e+02\n",
      "  8.80316518e-01]\n",
      " [2.30496454e+00 1.93617021e+00 3.56914894e+00 1.47535085e+03\n",
      "  8.51063830e-01]]\n"
     ]
    }
   ],
   "source": [
    "kmeans = KMeans(n_clusters=4).fit(X)\n",
    "centroids = kmeans.cluster_centers_\n",
    "print(centroids)"
   ]
  },
  {
   "cell_type": "code",
   "execution_count": null,
   "metadata": {},
   "outputs": [],
   "source": [
    "X_buffer = X.values\n",
    "# Obtenemos las etiquetas de cada punto de nuestros datos\n",
    "labels = kmeans.predict(X)\n",
    "# Obtenemos los centroids\n",
    "C = kmeans.cluster_centers_\n",
    "colores=['red','green','blue','yellow']\n",
    "asignar=[]\n",
    "for row in labels:\n",
    "    asignar.append(colores[row])"
   ]
  },
  {
   "cell_type": "markdown",
   "metadata": {},
   "source": [
    "#### Graficamos los 4 clusters diferenciando por 'mean_products_photos_qty','mean_customer_state_n','mean_review_score'"
   ]
  },
  {
   "cell_type": "code",
   "execution_count": 146,
   "metadata": {},
   "outputs": [
    {
     "data": {
      "text/plain": [
       "<mpl_toolkits.mplot3d.art3d.Path3DCollection at 0x21a133ca130>"
      ]
     },
     "execution_count": 146,
     "metadata": {},
     "output_type": "execute_result"
    },
    {
     "data": {
      "image/png": "[encoded data removed]",
      "text/plain": [
       "<Figure size 432x288 with 1 Axes>"
      ]
     },
     "metadata": {},
     "output_type": "display_data"
    }
   ],
   "source": [
    "fig = plt.figure()\n",
    "ax = Axes3D(fig)\n",
    "ax.scatter(X_buffer[:, 0], X_buffer[:, 1], X_buffer[:, 2], c=asignar,s=6)\n",
    "ax.scatter(C[:, 0], C[:, 1], C[:, 2], marker='*', c=colores, s=1000)"
   ]
  },
  {
   "cell_type": "markdown",
   "metadata": {},
   "source": [
    "#### Graficamos los 4 clusters diferenciando por 'prefered_payment_type_n', 'total_payment_value', 'mean_review_score'"
   ]
  },
  {
   "cell_type": "code",
   "execution_count": 145,
   "metadata": {},
   "outputs": [
    {
     "data": {
      "text/plain": [
       "<mpl_toolkits.mplot3d.art3d.Path3DCollection at 0x21a13339760>"
      ]
     },
     "execution_count": 145,
     "metadata": {},
     "output_type": "execute_result"
    },
    {
     "data": {
      "image/png": "[encoded data removed]",
      "text/plain": [
       "<Figure size 432x288 with 1 Axes>"
      ]
     },
     "metadata": {},
     "output_type": "display_data"
    }
   ],
   "source": [
    "fig = plt.figure()\n",
    "ax = Axes3D(fig)\n",
    "ax.scatter(X_buffer[:, 4], X_buffer[:, 3], X_buffer[:, 2], c=asignar,s=6)\n",
    "ax.scatter(C[:, 4], C[:, 3], C[:, 2], marker='*', c=colores, s=1000)\n"
   ]
  },
  {
   "cell_type": "markdown",
   "metadata": {},
   "source": [
    "#### Graficamos en 2 dimensiones con respecto a la variable \"total_payment_value\""
   ]
  },
  {
   "cell_type": "code",
   "execution_count": 153,
   "metadata": {},
   "outputs": [
    {
     "data": {
      "image/png": "[encoded data removed]",
      "text/plain": [
       "<Figure size 432x288 with 1 Axes>"
      ]
     },
     "metadata": {},
     "output_type": "display_data"
    }
   ],
   "source": [
    "f1 = X['mean_review_score'].values\n",
    "f2 = X['total_payment_value'].values\n",
    "\n",
    "plt.scatter(f1, f2, c=asignar, s=70)\n",
    "plt.scatter(C[:, 2], C[:, 3], marker='*', c=colores, s=1000)\n",
    "plt.show()"
   ]
  },
  {
   "cell_type": "code",
   "execution_count": 154,
   "metadata": {},
   "outputs": [
    {
     "data": {
      "image/png": "[encoded data removed]",
      "text/plain": [
       "<Figure size 432x288 with 1 Axes>"
      ]
     },
     "metadata": {},
     "output_type": "display_data"
    }
   ],
   "source": [
    "f1 = X['prefered_payment_type_n'].values\n",
    "f2 = X['total_payment_value'].values\n",
    "\n",
    "plt.scatter(f1, f2, c=asignar, s=70)\n",
    "plt.scatter(C[:, 4], C[:, 3], marker='*', c=colores, s=1000)\n",
    "plt.show()"
   ]
  },
  {
   "cell_type": "code",
   "execution_count": 155,
   "metadata": {},
   "outputs": [
    {
     "data": {
      "image/png": "[encoded data removed]",
      "text/plain": [
       "<Figure size 432x288 with 1 Axes>"
      ]
     },
     "metadata": {},
     "output_type": "display_data"
    }
   ],
   "source": [
    "f1 = X['mean_customer_state_n'].values\n",
    "f2 = X['total_payment_value'].values\n",
    "\n",
    "plt.scatter(f1, f2, c=asignar, s=70)\n",
    "plt.scatter(C[:, 1], C[:, 3], marker='*', c=colores, s=1000)\n",
    "plt.show()"
   ]
  },
  {
   "cell_type": "code",
   "execution_count": null,
   "metadata": {},
   "outputs": [],
   "source": []
  }
 ],
 "metadata": {
  "kernelspec": {
   "display_name": "Python 3",
   "language": "python",
   "name": "python3"
  },
  "language_info": {
   "codemirror_mode": {
    "name": "ipython",
    "version": 3
   },
   "file_extension": ".py",
   "mimetype": "text/x-python",
   "name": "python",
   "nbconvert_exporter": "python",
   "pygments_lexer": "ipython3",
   "version": "3.8.3"
  }
 },
 "nbformat": 4,
 "nbformat_minor": 4
}
