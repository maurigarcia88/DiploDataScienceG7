{
 "cells": [
  {
   "cell_type": "code",
   "execution_count": 218,
   "metadata": {},
   "outputs": [
    {
     "name": "stdout",
     "output_type": "stream",
     "text": [
      "C:\\Users\\u0166657\\Workspace\\Diplo-datos\\repositorio\\DiploDataScienceG7\\Mauri\\TP3\n"
     ]
    }
   ],
   "source": [
    "import os\n",
    "import pandas as pd\n",
    "import seaborn as sns\n",
    "import numpy as np\n",
    "import matplotlib.pyplot as plt\n",
    "sns.set_style(\"darkgrid\")\n",
    "from mpl_toolkits.mplot3d import Axes3D\n",
    "\n",
    "print(os.getcwd())"
   ]
  },
  {
   "cell_type": "code",
   "execution_count": 186,
   "metadata": {},
   "outputs": [],
   "source": [
    "df = pd.read_csv('./preprocessed_dataset.csv', index_col=0)\n",
    "new_df = pd.DataFrame()"
   ]
  },
  {
   "cell_type": "code",
   "execution_count": 187,
   "metadata": {},
   "outputs": [],
   "source": [
    "new_df['total_payment_value'] = df.groupby([\"customer_id\"])[\"payment_value\"].apply(sum)"
   ]
  },
  {
   "cell_type": "code",
   "execution_count": 188,
   "metadata": {},
   "outputs": [],
   "source": [
    "new_df['total_buys'] = df.groupby('customer_id')['customer_id'].apply(pd.Series.count)"
   ]
  },
  {
   "cell_type": "code",
   "execution_count": 189,
   "metadata": {},
   "outputs": [],
   "source": [
    "new_df['prefered_payment_type'] = df.groupby('customer_id')['payment_type'].apply(lambda x:x.mode()[0])"
   ]
  },
  {
   "cell_type": "code",
   "execution_count": 190,
   "metadata": {},
   "outputs": [],
   "source": [
    "new_df['prefered_payment_installments'] = df.groupby('customer_id')['payment_installments'].apply(lambda x:x.mode()[0])"
   ]
  },
  {
   "cell_type": "code",
   "execution_count": 191,
   "metadata": {},
   "outputs": [],
   "source": [
    "new_df['mean_review_score'] = df.groupby('customer_id')['review_score'].apply(pd.Series.mean)"
   ]
  },
  {
   "cell_type": "code",
   "execution_count": 192,
   "metadata": {},
   "outputs": [],
   "source": [
    "new_df['mean_products_photos_qty'] = df.groupby('customer_id')['product_photos_qty'].apply(pd.Series.mean)"
   ]
  },
  {
   "cell_type": "code",
   "execution_count": 193,
   "metadata": {},
   "outputs": [],
   "source": [
    "new_df['n_different_bought_products'] =  df.groupby('customer_id')['payment_type'].apply(pd.Series.nunique)"
   ]
  },
  {
   "cell_type": "code",
   "execution_count": 194,
   "metadata": {},
   "outputs": [],
   "source": [
    "new_df['mean_products_volume'] = df.groupby('customer_id')['product_volume'].apply(pd.Series.mean)"
   ]
  },
  {
   "cell_type": "code",
   "execution_count": 195,
   "metadata": {},
   "outputs": [],
   "source": [
    "new_df['mean_products_weight_g'] = df.groupby('customer_id')['product_weight_g'].apply(pd.Series.mean)"
   ]
  },
  {
   "cell_type": "code",
   "execution_count": 196,
   "metadata": {},
   "outputs": [],
   "source": [
    "new_df.to_csv('./new_df.csv')"
   ]
  },
  {
   "cell_type": "code",
   "execution_count": 197,
   "metadata": {},
   "outputs": [
    {
     "data": {
      "text/plain": [
       "Index(['order_id', 'customer_id', 'order_status', 'order_purchase_timestamp',\n",
       "       'order_approved_at', 'order_delivered_carrier_date',\n",
       "       'order_delivered_customer_date', 'order_estimated_delivery_date',\n",
       "       'order_item_id', 'product_id', 'seller_id', 'shipping_limit_date',\n",
       "       'price', 'freight_value', 'payment_sequential', 'payment_type',\n",
       "       'payment_installments', 'payment_value', 'review_id', 'review_score',\n",
       "       'review_creation_date', 'review_answer_timestamp',\n",
       "       'product_category_name', 'product_name_lenght',\n",
       "       'product_description_lenght', 'product_photos_qty', 'product_weight_g',\n",
       "       'product_length_cm', 'product_height_cm', 'product_width_cm',\n",
       "       'customer_unique_id', 'customer_zip_code_prefix', 'customer_city',\n",
       "       'customer_state', 'seller_zip_code_prefix', 'seller_city',\n",
       "       'seller_state', 'product_category_name_english', 'Month_order',\n",
       "       'order_process_time', 'order_delivery_time', 'order_accuracy_time',\n",
       "       'order_approved_time', 'review_send_time', 'review_answer_time',\n",
       "       'product_volume'],\n",
       "      dtype='object')"
      ]
     },
     "execution_count": 197,
     "metadata": {},
     "output_type": "execute_result"
    }
   ],
   "source": [
    "df.columns"
   ]
  },
  {
   "cell_type": "code",
   "execution_count": 198,
   "metadata": {},
   "outputs": [
    {
     "data": {
      "text/plain": [
       "bed_bath_table               0.103123\n",
       "health_beauty                0.085893\n",
       "sports_leisure               0.077338\n",
       "furniture_decor              0.075316\n",
       "computers_accessories        0.069945\n",
       "                               ...   \n",
       "arts_and_craftmanship        0.000207\n",
       "la_cuisine                   0.000138\n",
       "cds_dvds_musicals            0.000120\n",
       "fashion_childrens_clothes    0.000069\n",
       "security_and_services        0.000017\n",
       "Name: product_category_name_english, Length: 71, dtype: float64"
      ]
     },
     "execution_count": 198,
     "metadata": {},
     "output_type": "execute_result"
    }
   ],
   "source": [
    "df.product_category_name_english.value_counts(normalize=True)"
   ]
  },
  {
   "cell_type": "code",
   "execution_count": 201,
   "metadata": {},
   "outputs": [],
   "source": [
    "#customer_state(4 categorias, primeras 3 mas otros)\n",
    "new_df['mean_customer_state'] = df.groupby('customer_id')['customer_state'].apply(lambda x:x.mode()[0])\n",
    "\n",
    "customer_state_list=['SP','RJ','MG']\n",
    "def customer_state_truncate(x):\n",
    "    if x not in customer_state_list :\n",
    "        return 'OTROS'\n",
    "    else:\n",
    "        return x\n",
    "\n",
    "\n",
    "new_df['mean_customer_state'] = new_df['mean_customer_state'].apply(lambda row: customer_state_truncate(row))"
   ]
  },
  {
   "cell_type": "code",
   "execution_count": 202,
   "metadata": {},
   "outputs": [],
   "source": [
    "#seller_state(4 categorias, primeras 3 mas otros)\n",
    "new_df['mean_seller_state'] = df.groupby('customer_id')['seller_state'].apply(lambda x:x.mode()[0])\n",
    "\n",
    "seller_state_list=['SP','PR','MG']\n",
    "def seller_state_truncate(x):\n",
    "    if x not in seller_state_list :\n",
    "        return 'OTROS'\n",
    "    else:\n",
    "        return x\n",
    "\n",
    "new_df['mean_seller_state'] = new_df['mean_seller_state'].apply(lambda row: seller_state_truncate(row))"
   ]
  },
  {
   "cell_type": "code",
   "execution_count": 210,
   "metadata": {},
   "outputs": [],
   "source": [
    "#mean_order_process_time\n",
    "new_df['mean_order_process_time'] = df.groupby('customer_id')['order_process_time'].apply(lambda x:x.mode()[0])\n",
    "new_df['mean_order_process_time'] = pd.to_timedelta(new_df['mean_order_process_time'],unit='S')\n",
    "new_df['mean_order_process_days'] = new_df['mean_order_process_time'].dt.days \n",
    "new_df['mean_order_process_hour_minute'] = new_df['mean_order_process_time'].dt.components.hours.astype(str) + new_df['mean_order_process_time'].dt.components.minutes.astype(str)"
   ]
  },
  {
   "cell_type": "code",
   "execution_count": 206,
   "metadata": {},
   "outputs": [],
   "source": [
    "#mean_order_delivery_time\n",
    "new_df['mean_order_delivery_time'] = df.groupby('customer_id')['order_delivery_time'].apply(lambda x:x.mode()[0])\n",
    "new_df['mean_order_delivery_time'] = pd.to_timedelta(new_df['mean_order_delivery_time'],unit='S')\n",
    "new_df['mean_order_delivery_days'] = new_df['mean_order_delivery_time'].dt.days\n",
    "new_df['mean_order_delivery_hour_minute'] = new_df['mean_order_delivery_time'].dt.components.hours + new_df['mean_order_delivery_time'].dt.components.minutes"
   ]
  },
  {
   "cell_type": "code",
   "execution_count": 211,
   "metadata": {},
   "outputs": [],
   "source": [
    "#mean_order_accuracy_time\n",
    "new_df['mean_order_accuracy_time'] = df.groupby('customer_id')['order_accuracy_time'].apply(lambda x:x.mode()[0])\n",
    "new_df['mean_order_accuracy_time'] = pd.to_timedelta(new_df['mean_order_accuracy_time'],unit='S')\n",
    "new_df['mean_order_accuracy_days'] = new_df['mean_order_accuracy_time'].dt.days\n",
    "new_df['mean_order_accuracy_hour_minute'] = new_df['mean_order_accuracy_time'].dt.components.hours + new_df['mean_order_accuracy_time'].dt.components.minutes"
   ]
  },
  {
   "cell_type": "code",
   "execution_count": 203,
   "metadata": {},
   "outputs": [],
   "source": [
    "#mean_order_approved_time'\n",
    "new_df['mean_order_approved_time'] = df.groupby('customer_id')['order_approved_time'].apply(lambda x:x.mode()[0])\n",
    "new_df['mean_order_approved_time'] = pd.to_timedelta(new_df['mean_order_approved_time'],unit='S')\n",
    "new_df['mean_order_approved_days'] = new_df['mean_order_approved_time'].dt.days\n",
    "new_df['mean_order_approved_hour_minute'] = new_df['mean_order_approved_time'].dt.components.hours + new_df['mean_order_approved_time'].dt.components.minutes"
   ]
  },
  {
   "cell_type": "code",
   "execution_count": 208,
   "metadata": {},
   "outputs": [
    {
     "data": {
      "text/plain": [
       "Index(['total_payment_value', 'total_buys', 'prefered_payment_type',\n",
       "       'prefered_payment_installments', 'mean_review_score',\n",
       "       'mean_products_photos_qty', 'n_different_bought_products',\n",
       "       'mean_products_volume', 'mean_products_weight_g', 'mean_customer_state',\n",
       "       'mean_seller_state', 'mean_order_approved_time',\n",
       "       'mean_order_approved_days', 'mean_order_approved_hour_minute',\n",
       "       'mean_order_delivery_time', 'mean_order_delivery_days',\n",
       "       'mean_order_delivery_hour_minute', 'mean_order_process_time',\n",
       "       'mean_order_process_days', 'mean_order_process_hour_minute'],\n",
       "      dtype='object')"
      ]
     },
     "execution_count": 208,
     "metadata": {},
     "output_type": "execute_result"
    }
   ],
   "source": [
    "new_df.columns"
   ]
  },
  {
   "cell_type": "code",
   "execution_count": 223,
   "metadata": {},
   "outputs": [],
   "source": [
    "new_df.drop(['mean_order_process_time','mean_order_delivery_time','mean_order_accuracy_time', 'mean_order_approved_time'], axis='columns', inplace=True)"
   ]
  },
  {
   "cell_type": "markdown",
   "metadata": {},
   "source": [
    "### Tratamiento de Outliers"
   ]
  },
  {
   "cell_type": "code",
   "execution_count": 212,
   "metadata": {},
   "outputs": [
    {
     "data": {
      "text/html": [
       "<div>\n",
       "<style scoped>\n",
       "    .dataframe tbody tr th:only-of-type {\n",
       "        vertical-align: middle;\n",
       "    }\n",
       "\n",
       "    .dataframe tbody tr th {\n",
       "        vertical-align: top;\n",
       "    }\n",
       "\n",
       "    .dataframe thead th {\n",
       "        text-align: right;\n",
       "    }\n",
       "</style>\n",
       "<table border=\"1\" class=\"dataframe\">\n",
       "  <thead>\n",
       "    <tr style=\"text-align: right;\">\n",
       "      <th></th>\n",
       "      <th>total_payment_value</th>\n",
       "      <th>total_buys</th>\n",
       "      <th>prefered_payment_installments</th>\n",
       "      <th>mean_review_score</th>\n",
       "      <th>mean_products_photos_qty</th>\n",
       "      <th>n_different_bought_products</th>\n",
       "      <th>mean_products_volume</th>\n",
       "      <th>mean_products_weight_g</th>\n",
       "      <th>mean_order_approved_time</th>\n",
       "      <th>mean_order_approved_days</th>\n",
       "      <th>mean_order_approved_hour_minute</th>\n",
       "      <th>mean_order_delivery_time</th>\n",
       "      <th>mean_order_delivery_days</th>\n",
       "      <th>mean_order_delivery_hour_minute</th>\n",
       "      <th>mean_order_process_time</th>\n",
       "      <th>mean_order_process_days</th>\n",
       "      <th>mean_order_accuracy_time</th>\n",
       "      <th>mean_order_accuracy_days</th>\n",
       "      <th>mean_order_accuracy_hour_minute</th>\n",
       "    </tr>\n",
       "  </thead>\n",
       "  <tbody>\n",
       "    <tr>\n",
       "      <th>count</th>\n",
       "      <td>96944.000000</td>\n",
       "      <td>96944.000000</td>\n",
       "      <td>96944.000000</td>\n",
       "      <td>96944.000000</td>\n",
       "      <td>96944.000000</td>\n",
       "      <td>96944.000000</td>\n",
       "      <td>96944.000000</td>\n",
       "      <td>96944.000000</td>\n",
       "      <td>96944</td>\n",
       "      <td>96944.000000</td>\n",
       "      <td>96944.000000</td>\n",
       "      <td>96944</td>\n",
       "      <td>96944.000000</td>\n",
       "      <td>96944.000000</td>\n",
       "      <td>96944</td>\n",
       "      <td>96944.000000</td>\n",
       "      <td>96944</td>\n",
       "      <td>96944.000000</td>\n",
       "      <td>96944.000000</td>\n",
       "    </tr>\n",
       "    <tr>\n",
       "      <th>mean</th>\n",
       "      <td>207.138952</td>\n",
       "      <td>1.198537</td>\n",
       "      <td>2.903883</td>\n",
       "      <td>4.093551</td>\n",
       "      <td>2.249135</td>\n",
       "      <td>1.022549</td>\n",
       "      <td>15256.788955</td>\n",
       "      <td>2108.019929</td>\n",
       "      <td>0 days 10:16:54.027376</td>\n",
       "      <td>0.264823</td>\n",
       "      <td>24.366180</td>\n",
       "      <td>9 days 07:03:40.485935</td>\n",
       "      <td>8.850512</td>\n",
       "      <td>39.821072</td>\n",
       "      <td>12 days 11:35:17.612142</td>\n",
       "      <td>12.015463</td>\n",
       "      <td>11 days 04:37:46.664027</td>\n",
       "      <td>10.888606</td>\n",
       "      <td>35.626836</td>\n",
       "    </tr>\n",
       "    <tr>\n",
       "      <th>std</th>\n",
       "      <td>626.445194</td>\n",
       "      <td>0.751232</td>\n",
       "      <td>2.704329</td>\n",
       "      <td>1.339103</td>\n",
       "      <td>1.739502</td>\n",
       "      <td>0.148462</td>\n",
       "      <td>23386.142592</td>\n",
       "      <td>3758.330376</td>\n",
       "      <td>0 days 21:12:44.286130</td>\n",
       "      <td>0.762466</td>\n",
       "      <td>18.361404</td>\n",
       "      <td>8 days 16:20:01.553706</td>\n",
       "      <td>8.665194</td>\n",
       "      <td>19.200122</td>\n",
       "      <td>9 days 10:38:48.393433</td>\n",
       "      <td>9.450100</td>\n",
       "      <td>10 days 02:47:07.270252</td>\n",
       "      <td>10.113564</td>\n",
       "      <td>17.810162</td>\n",
       "    </tr>\n",
       "    <tr>\n",
       "      <th>min</th>\n",
       "      <td>9.590000</td>\n",
       "      <td>1.000000</td>\n",
       "      <td>0.000000</td>\n",
       "      <td>1.000000</td>\n",
       "      <td>1.000000</td>\n",
       "      <td>1.000000</td>\n",
       "      <td>168.000000</td>\n",
       "      <td>0.000000</td>\n",
       "      <td>0 days 00:00:00</td>\n",
       "      <td>0.000000</td>\n",
       "      <td>0.000000</td>\n",
       "      <td>-17 days +21:41:31</td>\n",
       "      <td>-17.000000</td>\n",
       "      <td>0.000000</td>\n",
       "      <td>0 days 12:48:07</td>\n",
       "      <td>0.000000</td>\n",
       "      <td>-189 days +00:35:53</td>\n",
       "      <td>-189.000000</td>\n",
       "      <td>0.000000</td>\n",
       "    </tr>\n",
       "    <tr>\n",
       "      <th>25%</th>\n",
       "      <td>63.000000</td>\n",
       "      <td>1.000000</td>\n",
       "      <td>1.000000</td>\n",
       "      <td>4.000000</td>\n",
       "      <td>1.000000</td>\n",
       "      <td>1.000000</td>\n",
       "      <td>2816.000000</td>\n",
       "      <td>300.000000</td>\n",
       "      <td>0 days 00:12:54</td>\n",
       "      <td>0.000000</td>\n",
       "      <td>12.000000</td>\n",
       "      <td>4 days 03:53:26.750000</td>\n",
       "      <td>4.000000</td>\n",
       "      <td>25.000000</td>\n",
       "      <td>6 days 20:02:39</td>\n",
       "      <td>6.000000</td>\n",
       "      <td>6 days 09:43:33.250000</td>\n",
       "      <td>6.000000</td>\n",
       "      <td>21.000000</td>\n",
       "    </tr>\n",
       "    <tr>\n",
       "      <th>50%</th>\n",
       "      <td>110.000000</td>\n",
       "      <td>1.000000</td>\n",
       "      <td>2.000000</td>\n",
       "      <td>5.000000</td>\n",
       "      <td>2.000000</td>\n",
       "      <td>1.000000</td>\n",
       "      <td>6480.000000</td>\n",
       "      <td>700.000000</td>\n",
       "      <td>0 days 00:20:33</td>\n",
       "      <td>0.000000</td>\n",
       "      <td>17.000000</td>\n",
       "      <td>7 days 01:35:06</td>\n",
       "      <td>7.000000</td>\n",
       "      <td>39.000000</td>\n",
       "      <td>10 days 03:29:21</td>\n",
       "      <td>10.000000</td>\n",
       "      <td>11 days 23:45:29</td>\n",
       "      <td>11.000000</td>\n",
       "      <td>35.000000</td>\n",
       "    </tr>\n",
       "    <tr>\n",
       "      <th>75%</th>\n",
       "      <td>197.020000</td>\n",
       "      <td>1.000000</td>\n",
       "      <td>4.000000</td>\n",
       "      <td>5.000000</td>\n",
       "      <td>3.000000</td>\n",
       "      <td>1.000000</td>\n",
       "      <td>18414.000000</td>\n",
       "      <td>1825.000000</td>\n",
       "      <td>0 days 14:26:52.250000</td>\n",
       "      <td>0.000000</td>\n",
       "      <td>33.000000</td>\n",
       "      <td>11 days 22:30:00.250000</td>\n",
       "      <td>11.000000</td>\n",
       "      <td>55.000000</td>\n",
       "      <td>15 days 10:17:42.750000</td>\n",
       "      <td>15.000000</td>\n",
       "      <td>16 days 06:16:17.750000</td>\n",
       "      <td>16.000000</td>\n",
       "      <td>50.000000</td>\n",
       "    </tr>\n",
       "    <tr>\n",
       "      <th>max</th>\n",
       "      <td>109312.640000</td>\n",
       "      <td>63.000000</td>\n",
       "      <td>24.000000</td>\n",
       "      <td>5.000000</td>\n",
       "      <td>20.000000</td>\n",
       "      <td>2.000000</td>\n",
       "      <td>296208.000000</td>\n",
       "      <td>40425.000000</td>\n",
       "      <td>60 days 10:51:59</td>\n",
       "      <td>60.000000</td>\n",
       "      <td>82.000000</td>\n",
       "      <td>205 days 04:35:00</td>\n",
       "      <td>205.000000</td>\n",
       "      <td>82.000000</td>\n",
       "      <td>209 days 15:05:12</td>\n",
       "      <td>209.000000</td>\n",
       "      <td>146 days 00:23:13</td>\n",
       "      <td>146.000000</td>\n",
       "      <td>82.000000</td>\n",
       "    </tr>\n",
       "  </tbody>\n",
       "</table>\n",
       "</div>"
      ],
      "text/plain": [
       "       total_payment_value    total_buys  prefered_payment_installments  \\\n",
       "count         96944.000000  96944.000000                   96944.000000   \n",
       "mean            207.138952      1.198537                       2.903883   \n",
       "std             626.445194      0.751232                       2.704329   \n",
       "min               9.590000      1.000000                       0.000000   \n",
       "25%              63.000000      1.000000                       1.000000   \n",
       "50%             110.000000      1.000000                       2.000000   \n",
       "75%             197.020000      1.000000                       4.000000   \n",
       "max          109312.640000     63.000000                      24.000000   \n",
       "\n",
       "       mean_review_score  mean_products_photos_qty  \\\n",
       "count       96944.000000              96944.000000   \n",
       "mean            4.093551                  2.249135   \n",
       "std             1.339103                  1.739502   \n",
       "min             1.000000                  1.000000   \n",
       "25%             4.000000                  1.000000   \n",
       "50%             5.000000                  2.000000   \n",
       "75%             5.000000                  3.000000   \n",
       "max             5.000000                 20.000000   \n",
       "\n",
       "       n_different_bought_products  mean_products_volume  \\\n",
       "count                 96944.000000          96944.000000   \n",
       "mean                      1.022549          15256.788955   \n",
       "std                       0.148462          23386.142592   \n",
       "min                       1.000000            168.000000   \n",
       "25%                       1.000000           2816.000000   \n",
       "50%                       1.000000           6480.000000   \n",
       "75%                       1.000000          18414.000000   \n",
       "max                       2.000000         296208.000000   \n",
       "\n",
       "       mean_products_weight_g mean_order_approved_time  \\\n",
       "count            96944.000000                    96944   \n",
       "mean              2108.019929   0 days 10:16:54.027376   \n",
       "std               3758.330376   0 days 21:12:44.286130   \n",
       "min                  0.000000          0 days 00:00:00   \n",
       "25%                300.000000          0 days 00:12:54   \n",
       "50%                700.000000          0 days 00:20:33   \n",
       "75%               1825.000000   0 days 14:26:52.250000   \n",
       "max              40425.000000         60 days 10:51:59   \n",
       "\n",
       "       mean_order_approved_days  mean_order_approved_hour_minute  \\\n",
       "count              96944.000000                     96944.000000   \n",
       "mean                   0.264823                        24.366180   \n",
       "std                    0.762466                        18.361404   \n",
       "min                    0.000000                         0.000000   \n",
       "25%                    0.000000                        12.000000   \n",
       "50%                    0.000000                        17.000000   \n",
       "75%                    0.000000                        33.000000   \n",
       "max                   60.000000                        82.000000   \n",
       "\n",
       "      mean_order_delivery_time  mean_order_delivery_days  \\\n",
       "count                    96944              96944.000000   \n",
       "mean    9 days 07:03:40.485935                  8.850512   \n",
       "std     8 days 16:20:01.553706                  8.665194   \n",
       "min         -17 days +21:41:31                -17.000000   \n",
       "25%     4 days 03:53:26.750000                  4.000000   \n",
       "50%            7 days 01:35:06                  7.000000   \n",
       "75%    11 days 22:30:00.250000                 11.000000   \n",
       "max          205 days 04:35:00                205.000000   \n",
       "\n",
       "       mean_order_delivery_hour_minute  mean_order_process_time  \\\n",
       "count                     96944.000000                    96944   \n",
       "mean                         39.821072  12 days 11:35:17.612142   \n",
       "std                          19.200122   9 days 10:38:48.393433   \n",
       "min                           0.000000          0 days 12:48:07   \n",
       "25%                          25.000000          6 days 20:02:39   \n",
       "50%                          39.000000         10 days 03:29:21   \n",
       "75%                          55.000000  15 days 10:17:42.750000   \n",
       "max                          82.000000        209 days 15:05:12   \n",
       "\n",
       "       mean_order_process_days mean_order_accuracy_time  \\\n",
       "count             96944.000000                    96944   \n",
       "mean                 12.015463  11 days 04:37:46.664027   \n",
       "std                   9.450100  10 days 02:47:07.270252   \n",
       "min                   0.000000      -189 days +00:35:53   \n",
       "25%                   6.000000   6 days 09:43:33.250000   \n",
       "50%                  10.000000         11 days 23:45:29   \n",
       "75%                  15.000000  16 days 06:16:17.750000   \n",
       "max                 209.000000        146 days 00:23:13   \n",
       "\n",
       "       mean_order_accuracy_days  mean_order_accuracy_hour_minute  \n",
       "count              96944.000000                     96944.000000  \n",
       "mean                  10.888606                        35.626836  \n",
       "std                   10.113564                        17.810162  \n",
       "min                 -189.000000                         0.000000  \n",
       "25%                    6.000000                        21.000000  \n",
       "50%                   11.000000                        35.000000  \n",
       "75%                   16.000000                        50.000000  \n",
       "max                  146.000000                        82.000000  "
      ]
     },
     "execution_count": 212,
     "metadata": {},
     "output_type": "execute_result"
    }
   ],
   "source": [
    "new_df.describe()"
   ]
  },
  {
   "cell_type": "code",
   "execution_count": 213,
   "metadata": {},
   "outputs": [
    {
     "data": {
      "text/plain": [
       "<matplotlib.axes._subplots.AxesSubplot at 0x24928b53f40>"
      ]
     },
     "execution_count": 213,
     "metadata": {},
     "output_type": "execute_result"
    },
    {
     "data": {
      "image/png": "[encoded data removed]",
      "text/plain": [
       "<Figure size 432x288 with 1 Axes>"
      ]
     },
     "metadata": {},
     "output_type": "display_data"
    }
   ],
   "source": [
    "new_df.loc[new_df['total_payment_value']>new_df['total_payment_value'].quantile(0.99),'total_payment_value'] = new_df['total_payment_value'].quantile(0.99)\n",
    "new_df.boxplot(['total_payment_value'])"
   ]
  },
  {
   "cell_type": "code",
   "execution_count": 226,
   "metadata": {},
   "outputs": [
    {
     "data": {
      "text/plain": [
       "<matplotlib.axes._subplots.AxesSubplot at 0x2492a1fd430>"
      ]
     },
     "execution_count": 226,
     "metadata": {},
     "output_type": "execute_result"
    },
    {
     "data": {
      "image/png": "[encoded data removed]",
      "text/plain": [
       "<Figure size 432x288 with 1 Axes>"
      ]
     },
     "metadata": {},
     "output_type": "display_data"
    }
   ],
   "source": [
    "new_df.loc[new_df['total_buys']>new_df['total_buys'].quantile(0.99),'total_buys'] = new_df['total_buys'].quantile(0.99)\n",
    "new_df.boxplot(['total_buys'])"
   ]
  },
  {
   "cell_type": "code",
   "execution_count": 227,
   "metadata": {},
   "outputs": [
    {
     "data": {
      "text/plain": [
       "<matplotlib.axes._subplots.AxesSubplot at 0x2492a0acd90>"
      ]
     },
     "execution_count": 227,
     "metadata": {},
     "output_type": "execute_result"
    },
    {
     "data": {
      "image/png": "[encoded data removed]",
      "text/plain": [
       "<Figure size 432x288 with 1 Axes>"
      ]
     },
     "metadata": {},
     "output_type": "display_data"
    }
   ],
   "source": [
    "new_df.loc[new_df['mean_products_weight_g']>new_df['mean_products_weight_g'].quantile(0.99),'mean_products_weight_g'] = new_df['mean_products_weight_g'].quantile(0.99)\n",
    "new_df.boxplot(['mean_products_weight_g'])\n"
   ]
  },
  {
   "cell_type": "code",
   "execution_count": 228,
   "metadata": {},
   "outputs": [
    {
     "data": {
      "text/plain": [
       "<matplotlib.axes._subplots.AxesSubplot at 0x249398c6ac0>"
      ]
     },
     "execution_count": 228,
     "metadata": {},
     "output_type": "execute_result"
    },
    {
     "data": {
      "image/png": "[encoded data removed]",
      "text/plain": [
       "<Figure size 432x288 with 1 Axes>"
      ]
     },
     "metadata": {},
     "output_type": "display_data"
    }
   ],
   "source": [
    "new_df.loc[new_df['mean_order_approved_days']>new_df['mean_order_approved_days'].quantile(0.99),'mean_order_approved_days'] = new_df['mean_order_approved_days'].quantile(0.99)\n",
    "new_df.boxplot(['mean_order_approved_days'])"
   ]
  },
  {
   "cell_type": "markdown",
   "metadata": {},
   "source": [
    "### Falta tener el customer_id en la tabla y ver que features vamos a utilizar para clusterizar"
   ]
  },
  {
   "cell_type": "markdown",
   "metadata": {},
   "source": [
    "### Buscamos K"
   ]
  },
  {
   "cell_type": "code",
   "execution_count": null,
   "metadata": {},
   "outputs": [],
   "source": [
    "Nc = range(1, 21) # pruebo con 1 cluster, 2 clusters... 20 clusters\n",
    "# creo los kmeans\n",
    "kmeans = [None] * 20\n",
    "for i in Nc:\n",
    "    kmeans[i-1] = KMeans(n_clusters=i)\n",
    "\n",
    "kmeans"
   ]
  },
  {
   "cell_type": "code",
   "execution_count": null,
   "metadata": {},
   "outputs": [],
   "source": [
    "# ejecuto kmeans con cada uno de los clusters\n",
    "\n",
    "score = [None] * 20\n",
    "\n",
    "for i in range(len(kmeans)):\n",
    "    score[i] = (kmeans[i].fit(X).inertia_)  #score(X))\n",
    "    \n",
    "# score nos da 0 si los elementos son muy parecidos, o el \"opuesto\" al objetivo de kmeans (minimizar distancia)\n",
    "    "
   ]
  },
  {
   "cell_type": "code",
   "execution_count": null,
   "metadata": {},
   "outputs": [],
   "source": [
    "plt.plot(Nc,score)\n",
    "plt.xlabel('Cantidad de clusters')\n",
    "plt.ylabel('Score')\n",
    "plt.title('Elbow Curve (Curva codo)')\n",
    "plt.xticks(Nc)\n",
    "plt.show()"
   ]
  },
  {
   "cell_type": "code",
   "execution_count": null,
   "metadata": {},
   "outputs": [],
   "source": []
  },
  {
   "cell_type": "code",
   "execution_count": null,
   "metadata": {},
   "outputs": [],
   "source": []
  },
  {
   "cell_type": "code",
   "execution_count": null,
   "metadata": {},
   "outputs": [],
   "source": []
  },
  {
   "cell_type": "code",
   "execution_count": null,
   "metadata": {},
   "outputs": [],
   "source": []
  }
 ],
 "metadata": {
  "kernelspec": {
   "display_name": "Python 3",
   "language": "python",
   "name": "python3"
  },
  "language_info": {
   "codemirror_mode": {
    "name": "ipython",
    "version": 3
   },
   "file_extension": ".py",
   "mimetype": "text/x-python",
   "name": "python",
   "nbconvert_exporter": "python",
   "pygments_lexer": "ipython3",
   "version": "3.8.3"
  }
 },
 "nbformat": 4,
 "nbformat_minor": 4
}
