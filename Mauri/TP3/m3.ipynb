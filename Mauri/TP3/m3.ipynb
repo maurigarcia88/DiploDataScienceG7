{
 "cells": [
  {
   "cell_type": "code",
   "execution_count": 1,
   "metadata": {},
   "outputs": [
    {
     "name": "stdout",
     "output_type": "stream",
     "text": [
      "/home/mgarcia/Documents/Study/DiploDatos/Repositories/G7/DiploDataScienceG7/Mauri/TP3\n"
     ]
    }
   ],
   "source": [
    "import os\n",
    "import pandas as pd\n",
    "import seaborn as sns\n",
    "import numpy as np\n",
    "sns.set_style(\"darkgrid\")\n",
    "\n",
    "print(os.getcwd())"
   ]
  },
  {
   "cell_type": "code",
   "execution_count": 2,
   "metadata": {},
   "outputs": [],
   "source": [
    "df = pd.read_csv('./preprocessed_dataset.csv', index_col=0)\n",
    "new_df = pd.DataFrame()"
   ]
  },
  {
   "cell_type": "code",
   "execution_count": 3,
   "metadata": {},
   "outputs": [],
   "source": [
    "new_df['total_payment_value'] = df.groupby([\"customer_id\"])[\"payment_value\"].apply(sum)"
   ]
  },
  {
   "cell_type": "code",
   "execution_count": 4,
   "metadata": {},
   "outputs": [],
   "source": [
    "new_df['total_buys'] = df.groupby('customer_id')['customer_id'].apply(pd.Series.count)"
   ]
  },
  {
   "cell_type": "code",
   "execution_count": 5,
   "metadata": {},
   "outputs": [],
   "source": [
    "new_df['prefered_payment_type'] = df.groupby('customer_id')['payment_type'].apply(lambda x:x.mode()[0])"
   ]
  },
  {
   "cell_type": "code",
   "execution_count": 6,
   "metadata": {},
   "outputs": [],
   "source": [
    "new_df['prefered_payment_installments'] = df.groupby('customer_id')['payment_installments'].apply(lambda x:x.mode()[0])"
   ]
  },
  {
   "cell_type": "code",
   "execution_count": 7,
   "metadata": {},
   "outputs": [],
   "source": [
    "new_df['mean_review_score'] = df.groupby('customer_id')['review_score'].apply(pd.Series.mean)"
   ]
  },
  {
   "cell_type": "code",
   "execution_count": 8,
   "metadata": {},
   "outputs": [],
   "source": [
    "new_df['mean_products_photos_qty'] = df.groupby('customer_id')['product_photos_qty'].apply(pd.Series.mean)"
   ]
  },
  {
   "cell_type": "code",
   "execution_count": 9,
   "metadata": {},
   "outputs": [],
   "source": [
    "new_df['n_different_bought_products'] =  df.groupby('customer_id')['payment_type'].apply(pd.Series.nunique)"
   ]
  },
  {
   "cell_type": "code",
   "execution_count": 10,
   "metadata": {},
   "outputs": [],
   "source": [
    "new_df['mean_products_volume'] = df.groupby('customer_id')['product_volume'].apply(pd.Series.mean)"
   ]
  },
  {
   "cell_type": "code",
   "execution_count": 11,
   "metadata": {},
   "outputs": [],
   "source": [
    "new_df['mean_products_weight_g'] = df.groupby('customer_id')['product_weight_g'].apply(pd.Series.mean)"
   ]
  },
  {
   "cell_type": "code",
   "execution_count": 12,
   "metadata": {},
   "outputs": [],
   "source": [
    "new_df.to_csv('./new_df.csv')"
   ]
  },
  {
   "cell_type": "code",
   "execution_count": 13,
   "metadata": {},
   "outputs": [
    {
     "data": {
      "text/plain": [
       "Index(['order_id', 'customer_id', 'order_status', 'order_purchase_timestamp',\n",
       "       'order_approved_at', 'order_delivered_carrier_date',\n",
       "       'order_delivered_customer_date', 'order_estimated_delivery_date',\n",
       "       'order_item_id', 'product_id', 'seller_id', 'shipping_limit_date',\n",
       "       'price', 'freight_value', 'payment_sequential', 'payment_type',\n",
       "       'payment_installments', 'payment_value', 'review_id', 'review_score',\n",
       "       'review_creation_date', 'review_answer_timestamp',\n",
       "       'product_category_name', 'product_name_lenght',\n",
       "       'product_description_lenght', 'product_photos_qty', 'product_weight_g',\n",
       "       'product_length_cm', 'product_height_cm', 'product_width_cm',\n",
       "       'customer_unique_id', 'customer_zip_code_prefix', 'customer_city',\n",
       "       'customer_state', 'seller_zip_code_prefix', 'seller_city',\n",
       "       'seller_state', 'product_category_name_english', 'Month_order',\n",
       "       'order_process_time', 'order_delivery_time', 'order_accuracy_time',\n",
       "       'order_approved_time', 'review_send_time', 'review_answer_time',\n",
       "       'product_volume'],\n",
       "      dtype='object')"
      ]
     },
     "execution_count": 13,
     "metadata": {},
     "output_type": "execute_result"
    }
   ],
   "source": [
    "df.columns"
   ]
  },
  {
   "cell_type": "code",
   "execution_count": 14,
   "metadata": {},
   "outputs": [
    {
     "data": {
      "text/plain": [
       "bed_bath_table               0.103123\n",
       "health_beauty                0.085893\n",
       "sports_leisure               0.077338\n",
       "furniture_decor              0.075316\n",
       "computers_accessories        0.069945\n",
       "                               ...   \n",
       "arts_and_craftmanship        0.000207\n",
       "la_cuisine                   0.000138\n",
       "cds_dvds_musicals            0.000120\n",
       "fashion_childrens_clothes    0.000069\n",
       "security_and_services        0.000017\n",
       "Name: product_category_name_english, Length: 71, dtype: float64"
      ]
     },
     "execution_count": 14,
     "metadata": {},
     "output_type": "execute_result"
    }
   ],
   "source": [
    "df.product_category_name_english.value_counts(normalize=True)"
   ]
  },
  {
   "cell_type": "code",
   "execution_count": 15,
   "metadata": {},
   "outputs": [],
   "source": [
    "# df['total_payment_value'] = df.groupby([\"customer_id\"])[\"payment_value\"].transform('sum')\n",
    "# df['total_buys'] = df.groupby('customer_id')['customer_id'].transform('count')\n",
    "# df['prefered_payment_type'] = df.groupby('customer_id')['payment_type'].transform(lambda x:x.mode()[0])\n",
    "# df['prefered_payment_installments'] = df.groupby('customer_id')['payment_installments'].transform(lambda x:x.mode()[0])\n",
    "# df['mean_review_score'] = df.groupby('customer_id')['review_score'].transform('mean')\n"
   ]
  }
 ],
 "metadata": {
  "kernelspec": {
   "display_name": "Python 3",
   "language": "python",
   "name": "python3"
  },
  "language_info": {
   "codemirror_mode": {
    "name": "ipython",
    "version": 3
   },
   "file_extension": ".py",
   "mimetype": "text/x-python",
   "name": "python",
   "nbconvert_exporter": "python",
   "pygments_lexer": "ipython3",
   "version": "3.7.6"
  }
 },
 "nbformat": 4,
 "nbformat_minor": 4
}
