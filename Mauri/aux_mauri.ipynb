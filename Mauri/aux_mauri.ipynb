{
 "cells": [
  {
   "cell_type": "code",
   "execution_count": 1,
   "metadata": {},
   "outputs": [],
   "source": [
    "#### Imports para entrenamiento, predicción y evaluación del modelo ####\n",
    "#### NO QUITAR ####\n",
    "import xgboost as xgb\n",
    "from sklearn.metrics import classification_report, confusion_matrix\n",
    "#### Código Agregado ####\n",
    "import pandas as pd\n",
    "import numpy as np\n",
    "import seaborn as sns\n",
    "import matplotlib.pyplot as plt\n",
    "%matplotlib inline\n",
    "sns.set_style('darkgrid')\n",
    "### Loading Data\n"
   ]
  },
  {
   "cell_type": "code",
   "execution_count": 2,
   "metadata": {},
   "outputs": [],
   "source": [
    "fulldata_path = 'tumama.csv'\n",
    "fulldata = pd.read_csv(fulldata_path)"
   ]
  },
  {
   "cell_type": "markdown",
   "metadata": {},
   "source": [
    "---\n",
    "# Comienzo de encoding variables categóricas\n",
    "---"
   ]
  },
  {
   "cell_type": "code",
   "execution_count": 3,
   "metadata": {},
   "outputs": [],
   "source": [
    "num_cols = fulldata._get_numeric_data().columns \n",
    "cat_columns = list(set(fulldata.columns) - set(num_cols))"
   ]
  },
  {
   "cell_type": "code",
   "execution_count": 4,
   "metadata": {},
   "outputs": [
    {
     "data": {
      "text/plain": [
       "['DEVICE_VENDOR_NAME',\n",
       " 'PREP_RECH_LAST_DAY_12W',\n",
       " 'Date',\n",
       " 'DEVICE_MODEL_NAME',\n",
       " 'Period',\n",
       " 'MICROSEGMENTATION',\n",
       " 'SEGMENTATION',\n",
       " 'NETWORK_TECH',\n",
       " 'PREP_RECH_CHNNL_MODE12W',\n",
       " 'VALUE_SEGMENT',\n",
       " 'COMMERCIAL_ACTIVATION_DATE',\n",
       " 'SUSCRIBER_KEY']"
      ]
     },
     "execution_count": 4,
     "metadata": {},
     "output_type": "execute_result"
    }
   ],
   "source": [
    "cat_columns"
   ]
  },
  {
   "cell_type": "code",
   "execution_count": 5,
   "metadata": {},
   "outputs": [
    {
     "data": {
      "text/plain": [
       "DEVICE_VENDOR_NAME               211\n",
       "PREP_RECH_LAST_DAY_12W            84\n",
       "Date                            1417\n",
       "DEVICE_MODEL_NAME               2141\n",
       "Period                            47\n",
       "MICROSEGMENTATION                 25\n",
       "SEGMENTATION                       7\n",
       "NETWORK_TECH                       3\n",
       "PREP_RECH_CHNNL_MODE12W         5677\n",
       "VALUE_SEGMENT                      4\n",
       "COMMERCIAL_ACTIVATION_DATE      1417\n",
       "SUSCRIBER_KEY                 226206\n",
       "dtype: int64"
      ]
     },
     "execution_count": 5,
     "metadata": {},
     "output_type": "execute_result"
    }
   ],
   "source": [
    "fulldata[cat_columns].nunique()"
   ]
  },
  {
   "cell_type": "markdown",
   "metadata": {},
   "source": [
    "### Después de inspeccionar estas variables, con imágenes de value counts, nos detenemos en el caso de DEVICE_VENDOR_NAME"
   ]
  },
  {
   "cell_type": "code",
   "execution_count": 25,
   "metadata": {},
   "outputs": [
    {
     "data": {
      "text/plain": [
       "SAMSUNG       0.640447\n",
       "HUAWEI        0.173939\n",
       "LG            0.050578\n",
       "BLU           0.032395\n",
       "NOKIA         0.022347\n",
       "APPLE         0.016551\n",
       "UNKNOWN       0.011083\n",
       "GREYMARKET    0.007873\n",
       "HYUNDAI       0.006963\n",
       "ALCATEL       0.005866\n",
       "Name: DEVICE_VENDOR_NAME, dtype: float64"
      ]
     },
     "execution_count": 25,
     "metadata": {},
     "output_type": "execute_result"
    }
   ],
   "source": [
    "fulldata.DEVICE_VENDOR_NAME.value_counts(normalize=True)[0:10]"
   ]
  },
  {
   "cell_type": "markdown",
   "metadata": {},
   "source": [
    "### Vemos que la mayoria se concentra en 6 marcas, remplazaremos con 'Other' para poder aplicar hot encoding"
   ]
  },
  {
   "cell_type": "code",
   "execution_count": 26,
   "metadata": {},
   "outputs": [],
   "source": [
    "n = 6\n",
    "most_frequent_vendors = fulldata['DEVICE_VENDOR_NAME'].value_counts()[:n].index.tolist()\n",
    "fulldata.loc[~fulldata[\"DEVICE_VENDOR_NAME\"].isin(most_frequent_vendors), \"DEVICE_VENDOR_NAME\"] = \"Other\""
   ]
  },
  {
   "cell_type": "code",
   "execution_count": 29,
   "metadata": {},
   "outputs": [
    {
     "data": {
      "text/plain": [
       "SAMSUNG    0.640447\n",
       "HUAWEI     0.173939\n",
       "Other      0.063743\n",
       "LG         0.050578\n",
       "BLU        0.032395\n",
       "NOKIA      0.022347\n",
       "APPLE      0.016551\n",
       "Name: DEVICE_VENDOR_NAME, dtype: float64"
      ]
     },
     "execution_count": 29,
     "metadata": {},
     "output_type": "execute_result"
    }
   ],
   "source": [
    "fulldata.DEVICE_VENDOR_NAME.value_counts(normalize=1)"
   ]
  },
  {
   "cell_type": "markdown",
   "metadata": {},
   "source": [
    "### Aplicaremos one hot encode a las columnas SEGMENTATION, VALUE_SEGMENT, NETWORK_TECH, DEVICE_VENDOR_NAME"
   ]
  },
  {
   "cell_type": "code",
   "execution_count": 30,
   "metadata": {},
   "outputs": [],
   "source": [
    "def encode_and_bind(original_dataframe, feature_to_encode):\n",
    "    dummies = pd.get_dummies(original_dataframe[[feature_to_encode]])\n",
    "    res = pd.concat([original_dataframe, dummies], axis=1)\n",
    "    return(res)"
   ]
  },
  {
   "cell_type": "code",
   "execution_count": 10,
   "metadata": {},
   "outputs": [
    {
     "data": {
      "text/plain": [
       "(226206, 91)"
      ]
     },
     "execution_count": 10,
     "metadata": {},
     "output_type": "execute_result"
    }
   ],
   "source": [
    "fulldata.shape"
   ]
  },
  {
   "cell_type": "code",
   "execution_count": 32,
   "metadata": {},
   "outputs": [
    {
     "data": {
      "text/plain": [
       "(226206, 126)"
      ]
     },
     "execution_count": 32,
     "metadata": {},
     "output_type": "execute_result"
    }
   ],
   "source": [
    "columns_to_encode = ['SEGMENTATION', 'VALUE_SEGMENT', 'NETWORK_TECH', 'DEVICE_VENDOR_NAME']\n",
    "for column in columns_to_encode: \n",
    "    fulldata = encode_and_bind(fulldata, column)\n",
    "fulldata.shape"
   ]
  },
  {
   "cell_type": "markdown",
   "metadata": {},
   "source": [
    "---\n",
    "# Correlación variables con target\n",
    "---"
   ]
  },
  {
   "cell_type": "code",
   "execution_count": 45,
   "metadata": {},
   "outputs": [
    {
     "data": {
      "text/plain": [
       "Target                          1.000000\n",
       "PREP_RECH_NDAYS_LASTRECH_12W    0.551611\n",
       "SEGMENTATION_7-LOW              0.484010\n",
       "SEGMENTATION_7-LOW              0.484010\n",
       "SEGMENTATION_7-LOW              0.484010\n",
       "SEGMENTATION_7-LOW              0.484010\n",
       "VALUE_SEGMENT_4 - BRONZE        0.413995\n",
       "VALUE_SEGMENT_4 - BRONZE        0.413995\n",
       "VALUE_SEGMENT_4 - BRONZE        0.413995\n",
       "VALUE_SEGMENT_4 - BRONZE        0.413995\n",
       "PACK_DATA_EXP_W1                0.396922\n",
       "PACK_DATA_EXP_W2                0.396833\n",
       "PACK_DATA_AMT_W2                0.372390\n",
       "PACK_DATA_EXP_W3                0.371835\n",
       "PACK_DATA_AMT_W1                0.363064\n",
       "Name: Target, dtype: float64"
      ]
     },
     "execution_count": 45,
     "metadata": {},
     "output_type": "execute_result"
    }
   ],
   "source": [
    "feature_target_correlation = fulldata[fulldata.columns[1:]].corr()['Target'].dropna()\n",
    "feature_targe_correlation.abs().sort_values(ascending=False)[0:15]"
   ]
  },
  {
   "cell_type": "markdown",
   "metadata": {},
   "source": [
    "## Consultar!"
   ]
  },
  {
   "cell_type": "code",
   "execution_count": null,
   "metadata": {},
   "outputs": [],
   "source": []
  },
  {
   "cell_type": "code",
   "execution_count": null,
   "metadata": {},
   "outputs": [],
   "source": []
  },
  {
   "cell_type": "code",
   "execution_count": null,
   "metadata": {},
   "outputs": [],
   "source": []
  },
  {
   "cell_type": "code",
   "execution_count": null,
   "metadata": {},
   "outputs": [],
   "source": []
  },
  {
   "cell_type": "code",
   "execution_count": null,
   "metadata": {},
   "outputs": [],
   "source": []
  },
  {
   "cell_type": "code",
   "execution_count": null,
   "metadata": {},
   "outputs": [],
   "source": []
  },
  {
   "cell_type": "code",
   "execution_count": null,
   "metadata": {},
   "outputs": [],
   "source": []
  },
  {
   "cell_type": "code",
   "execution_count": null,
   "metadata": {},
   "outputs": [],
   "source": []
  },
  {
   "cell_type": "code",
   "execution_count": null,
   "metadata": {},
   "outputs": [],
   "source": []
  },
  {
   "cell_type": "code",
   "execution_count": null,
   "metadata": {},
   "outputs": [],
   "source": []
  },
  {
   "cell_type": "code",
   "execution_count": null,
   "metadata": {},
   "outputs": [],
   "source": []
  },
  {
   "cell_type": "code",
   "execution_count": null,
   "metadata": {},
   "outputs": [],
   "source": []
  },
  {
   "cell_type": "code",
   "execution_count": null,
   "metadata": {},
   "outputs": [],
   "source": []
  },
  {
   "cell_type": "code",
   "execution_count": null,
   "metadata": {},
   "outputs": [],
   "source": []
  },
  {
   "cell_type": "code",
   "execution_count": null,
   "metadata": {},
   "outputs": [],
   "source": []
  },
  {
   "cell_type": "code",
   "execution_count": null,
   "metadata": {},
   "outputs": [],
   "source": []
  },
  {
   "cell_type": "code",
   "execution_count": null,
   "metadata": {},
   "outputs": [],
   "source": []
  }
 ],
 "metadata": {
  "kernelspec": {
   "display_name": "Python 3",
   "language": "python",
   "name": "python3"
  },
  "language_info": {
   "codemirror_mode": {
    "name": "ipython",
    "version": 3
   },
   "file_extension": ".py",
   "mimetype": "text/x-python",
   "name": "python",
   "nbconvert_exporter": "python",
   "pygments_lexer": "ipython3",
   "version": "3.7.6"
  }
 },
 "nbformat": 4,
 "nbformat_minor": 4
}
